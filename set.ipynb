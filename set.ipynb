{
 "cells": [
  {
   "cell_type": "code",
   "execution_count": 1,
   "id": "37648ad1",
   "metadata": {},
   "outputs": [
    {
     "name": "stdout",
     "output_type": "stream",
     "text": [
      "Set with integers from 1 to 5: {1, 2, 3, 4, 5}\n"
     ]
    }
   ],
   "source": [
    "#1. Create a set with integers from 1 to 5.\n",
    "integer_set = {1, 2, 3, 4, 5}\n",
    "print(\"Set with integers from 1 to 5:\", integer_set)"
   ]
  },
  {
   "cell_type": "code",
   "execution_count": 2,
   "id": "55818fb9",
   "metadata": {},
   "outputs": [
    {
     "name": "stdout",
     "output_type": "stream",
     "text": [
      "Set with integers from 1 to 5: {1, 2, 3, 4, 5}\n"
     ]
    }
   ],
   "source": [
    "#using range\n",
    "integer_set = set(range(1, 6))\n",
    "print(\"Set with integers from 1 to 5:\", integer_set)"
   ]
  },
  {
   "cell_type": "code",
   "execution_count": 3,
   "id": "33d6fdda",
   "metadata": {},
   "outputs": [
    {
     "name": "stdout",
     "output_type": "stream",
     "text": [
      "Set after adding an element: {1, 2, 3, 4, 5, 6}\n"
     ]
    }
   ],
   "source": [
    "#2. Add an element to a set.\n",
    "integer_set = {1, 2, 3, 4, 5}\n",
    "integer_set.add(6)\n",
    "print(\"Set after adding an element:\", integer_set)"
   ]
  },
  {
   "cell_type": "code",
   "execution_count": 4,
   "id": "3ee6ee09",
   "metadata": {},
   "outputs": [
    {
     "name": "stdout",
     "output_type": "stream",
     "text": [
      "Set after removing an element using remove: {1, 2, 4, 5}\n"
     ]
    }
   ],
   "source": [
    "#3. Remove an element from a set.\n",
    "integer_set = {1, 2, 3, 4, 5}\n",
    "integer_set.remove(3)\n",
    "print(\"Set after removing an element using remove:\", integer_set)"
   ]
  },
  {
   "cell_type": "code",
   "execution_count": 5,
   "id": "df751aa0",
   "metadata": {},
   "outputs": [
    {
     "name": "stdout",
     "output_type": "stream",
     "text": [
      "Set after discarding an element using discard: {1, 2, 4, 5}\n"
     ]
    }
   ],
   "source": [
    "integer_set = {1, 2, 3, 4, 5}\n",
    "integer_set.discard(3)\n",
    "print(\"Set after discarding an element using discard:\", integer_set)"
   ]
  },
  {
   "cell_type": "code",
   "execution_count": 6,
   "id": "aecd63fe",
   "metadata": {},
   "outputs": [
    {
     "name": "stdout",
     "output_type": "stream",
     "text": [
      "Element 3 exists in the set.\n"
     ]
    }
   ],
   "source": [
    "#4. Check if an element exists in a set.\n",
    "integer_set = {1, 2, 3, 4, 5}\n",
    "element_to_check = 3\n",
    "if element_to_check in integer_set:\n",
    "    print(f\"Element {element_to_check} exists in the set.\")\n",
    "else:\n",
    "    print(f\"Element {element_to_check} does not exist in the set.\")"
   ]
  },
  {
   "cell_type": "code",
   "execution_count": 7,
   "id": "6389ddc8",
   "metadata": {},
   "outputs": [
    {
     "name": "stdout",
     "output_type": "stream",
     "text": [
      "Length of the set: 5\n"
     ]
    }
   ],
   "source": [
    "#5. Find the length of a set without using the `len()` function.\n",
    "integer_set = {1, 2, 3, 4, 5}\n",
    "count = 0\n",
    "for element in integer_set:\n",
    "    count += 1\n",
    "print(\"Length of the set:\", count)"
   ]
  },
  {
   "cell_type": "code",
   "execution_count": 8,
   "id": "24d0db3e",
   "metadata": {},
   "outputs": [
    {
     "name": "stdout",
     "output_type": "stream",
     "text": [
      "Set after clearing all elements: set()\n"
     ]
    }
   ],
   "source": [
    "#6. Clear all elements from a set.\n",
    "nteger_set = {1, 2, 3, 4, 5}\n",
    "integer_set.clear()\n",
    "print(\"Set after clearing all elements:\", integer_set)"
   ]
  },
  {
   "cell_type": "code",
   "execution_count": 9,
   "id": "70a7c503",
   "metadata": {},
   "outputs": [
    {
     "name": "stdout",
     "output_type": "stream",
     "text": [
      "Set of even numbers from 1 to 10: {2, 4, 6, 8, 10}\n"
     ]
    }
   ],
   "source": [
    "#7. Create a set of even numbers from 1 to 10\n",
    "even_set = {x for x in range(1, 11) if x % 2 == 0}\n",
    "print(\"Set of even numbers from 1 to 10:\", even_set)"
   ]
  },
  {
   "cell_type": "code",
   "execution_count": 10,
   "id": "af5bef5b",
   "metadata": {},
   "outputs": [
    {
     "name": "stdout",
     "output_type": "stream",
     "text": [
      "Set of odd numbers from 1 to 10: {1, 3, 5, 7, 9}\n"
     ]
    }
   ],
   "source": [
    "#8. Create a set of odd numbers from 1 to 10.\n",
    "odd_set = {x for x in range(1, 11) if x % 2 != 0}\n",
    "print(\"Set of odd numbers from 1 to 10:\", odd_set)"
   ]
  },
  {
   "cell_type": "code",
   "execution_count": 11,
   "id": "a3ec1aca",
   "metadata": {},
   "outputs": [
    {
     "name": "stdout",
     "output_type": "stream",
     "text": [
      "Union of set1 and set2: {1, 2, 3, 4, 5, 6, 7, 8}\n"
     ]
    }
   ],
   "source": [
    "#9. Find the union of two sets.\n",
    "set1 = {1, 2, 3, 4, 5}\n",
    "set2 = {4, 5, 6, 7, 8}\n",
    "union_set = set1.union(set2)\n",
    "print(\"Union of set1 and set2:\", union_set)"
   ]
  },
  {
   "cell_type": "code",
   "execution_count": 12,
   "id": "c63c900a",
   "metadata": {},
   "outputs": [
    {
     "name": "stdout",
     "output_type": "stream",
     "text": [
      "Intersection of set1 and set2: {4, 5}\n"
     ]
    }
   ],
   "source": [
    "#10. Find the intersection of two sets.\n",
    "\n",
    "set1 = {1, 2, 3, 4, 5}\n",
    "set2 = {4, 5, 6, 7, 8}\n",
    "intersection_set = set1 & set2\n",
    "print(\"Intersection of set1 and set2:\", intersection_set)"
   ]
  },
  {
   "cell_type": "code",
   "execution_count": 13,
   "id": "3b779a06",
   "metadata": {},
   "outputs": [
    {
     "name": "stdout",
     "output_type": "stream",
     "text": [
      "Difference of set1 and set2 (set1 - set2): {1, 2, 3}\n"
     ]
    }
   ],
   "source": [
    "#11. Find the difference between two sets.\n",
    "set1 = {1, 2, 3, 4, 5}\n",
    "set2 = {4, 5, 6, 7, 8}\n",
    "difference_set = set1 - set2\n",
    "print(\"Difference of set1 and set2 (set1 - set2):\", difference_set)"
   ]
  },
  {
   "cell_type": "code",
   "execution_count": 14,
   "id": "f25a717e",
   "metadata": {},
   "outputs": [
    {
     "name": "stdout",
     "output_type": "stream",
     "text": [
      "set1 is a subset of set2\n"
     ]
    }
   ],
   "source": [
    "#12. Check if a set is a subset of another set\n",
    "set1 = {1, 2, 3}\n",
    "set2 = {1, 2, 3, 4, 5}\n",
    "is_subset = set1 <= set2\n",
    "\n",
    "if is_subset:\n",
    "    print(\"set1 is a subset of set2\")\n",
    "else:\n",
    "    print(\"set1 is not a subset of set2\")"
   ]
  },
  {
   "cell_type": "code",
   "execution_count": 15,
   "id": "514c4488",
   "metadata": {},
   "outputs": [
    {
     "name": "stdout",
     "output_type": "stream",
     "text": [
      "set1 is a superset of set2\n"
     ]
    }
   ],
   "source": [
    "#13. Check if a set is a superset of another set.\n",
    "set1 = {1, 2, 3, 4, 5}\n",
    "set2 = {1, 2, 3}\n",
    "is_superset = set1 >= set2\n",
    "if is_superset:\n",
    "    print(\"set1 is a superset of set2\")\n",
    "else:\n",
    "    print(\"set1 is not a superset of set2\")"
   ]
  },
  {
   "cell_type": "code",
   "execution_count": 16,
   "id": "aab4d81a",
   "metadata": {},
   "outputs": [
    {
     "name": "stdout",
     "output_type": "stream",
     "text": [
      "Set created from list: {1, 2, 3, 4}\n"
     ]
    }
   ],
   "source": [
    "#14. Create a set from a list.\n",
    "my_list = [1, 2, 3, 4, 3, 2, 1]\n",
    "my_set = set(my_list)\n",
    "print(\"Set created from list:\", my_set)"
   ]
  },
  {
   "cell_type": "code",
   "execution_count": 17,
   "id": "7eca4ac5",
   "metadata": {},
   "outputs": [
    {
     "name": "stdout",
     "output_type": "stream",
     "text": [
      "List converted from set: [1, 2, 3, 4]\n"
     ]
    }
   ],
   "source": [
    "#15. Convert a set to a list.\n",
    "my_set = {1, 2, 3, 4}\n",
    "my_list = list(my_set)\n",
    "print(\"List converted from set:\", my_list)"
   ]
  },
  {
   "cell_type": "code",
   "execution_count": 18,
   "id": "5413e277",
   "metadata": {},
   "outputs": [
    {
     "name": "stdout",
     "output_type": "stream",
     "text": [
      "Removed element: 1\n",
      "Updated set: {2, 3, 4, 5}\n"
     ]
    }
   ],
   "source": [
    "#16. Remove a random element from a set.\n",
    "my_set = {1, 2, 3, 4, 5}\n",
    "removed_element = my_set.pop()\n",
    "print(\"Removed element:\", removed_element)\n",
    "print(\"Updated set:\", my_set)"
   ]
  },
  {
   "cell_type": "code",
   "execution_count": 19,
   "id": "fc907615",
   "metadata": {},
   "outputs": [
    {
     "name": "stdout",
     "output_type": "stream",
     "text": [
      "Popped element: 1\n",
      "Updated set: {2, 3, 4, 5}\n"
     ]
    }
   ],
   "source": [
    "#17. Pop an element from a set\n",
    "my_set = {1, 2, 3, 4, 5}\n",
    "popped_element = my_set.pop()\n",
    "print(\"Popped element:\", popped_element)\n",
    "print(\"Updated set:\", my_set)\n"
   ]
  },
  {
   "cell_type": "code",
   "execution_count": 20,
   "id": "018ea218",
   "metadata": {},
   "outputs": [
    {
     "name": "stdout",
     "output_type": "stream",
     "text": [
      "set1 and set2 have no elements in common\n"
     ]
    }
   ],
   "source": [
    "#18. Check if two sets have no elements in common.\n",
    "set1 = {1, 2, 3}\n",
    "set2 = {4, 5, 6}\n",
    "are_disjoint = set1.isdisjoint(set2)\n",
    "if are_disjoint:\n",
    "    print(\"set1 and set2 have no elements in common\")\n",
    "else:\n",
    "    print(\"set1 and set2 have elements in common\")"
   ]
  },
  {
   "cell_type": "code",
   "execution_count": 21,
   "id": "3e4cc620",
   "metadata": {},
   "outputs": [
    {
     "name": "stdout",
     "output_type": "stream",
     "text": [
      "Symmetric difference between set1 and set2: {1, 2, 3, 6, 7, 8}\n"
     ]
    }
   ],
   "source": [
    "#19. Find the symmetric difference between two sets.\n",
    "set1 = {1, 2, 3, 4, 5}\n",
    "set2 = {4, 5, 6, 7, 8}\n",
    "symmetric_diff = set1 ^ set2\n",
    "print(\"Symmetric difference between set1 and set2:\", symmetric_diff)"
   ]
  },
  {
   "cell_type": "code",
   "execution_count": 22,
   "id": "8af0f44a",
   "metadata": {},
   "outputs": [
    {
     "name": "stdout",
     "output_type": "stream",
     "text": [
      "Updated set1: {1, 2, 3, 4, 5}\n"
     ]
    }
   ],
   "source": [
    "#20. Update a set with elements from another set.\n",
    "set1 = {1, 2, 3}\n",
    "set2 = {3, 4, 5}\n",
    "set1.update(set2)\n",
    "print(\"Updated set1:\", set1)"
   ]
  },
  {
   "cell_type": "code",
   "execution_count": 24,
   "id": "8c48c67b",
   "metadata": {},
   "outputs": [
    {
     "name": "stdout",
     "output_type": "stream",
     "text": [
      "Set of the first 5 prime numbers: {2, 3, 5, 7, 11}\n"
     ]
    }
   ],
   "source": [
    "#21. Create a set of the first 5 prime numbers.\n",
    "def generate_first_n_primes(n):\n",
    "    primes = set()\n",
    "    num = 2\n",
    "    while len(primes) < n:\n",
    "        if all(num % i != 0 for i in range(2, int(num**0.5) + 1)):\n",
    "            primes.add(num)\n",
    "        num += 1\n",
    "    return primes\n",
    "first_five_primes = generate_first_n_primes(5)\n",
    "\n",
    "print(\"Set of the first 5 prime numbers:\", first_five_primes)"
   ]
  },
  {
   "cell_type": "code",
   "execution_count": 25,
   "id": "872c0ac1",
   "metadata": {},
   "outputs": [
    {
     "name": "stdout",
     "output_type": "stream",
     "text": [
      "set1 and set2 are identical\n"
     ]
    }
   ],
   "source": [
    "#22. Check if two sets are identical.\n",
    "set1 = {1, 2, 3}\n",
    "set2 = {3, 2, 1}  \n",
    "if set1 == set2:\n",
    "    print(\"set1 and set2 are identical\")\n",
    "else:\n",
    "    print(\"set1 and set2 are not identical\")"
   ]
  },
  {
   "cell_type": "code",
   "execution_count": 26,
   "id": "c1682b8e",
   "metadata": {},
   "outputs": [
    {
     "name": "stdout",
     "output_type": "stream",
     "text": [
      "Frozen set: frozenset({1, 2, 3, 4, 5})\n"
     ]
    }
   ],
   "source": [
    "#23. Create a frozen set.\n",
    "my_set = {1, 2, 3, 4, 5}\n",
    "frozen_set = frozenset(my_set)\n",
    "print(\"Frozen set:\", frozen_set)"
   ]
  },
  {
   "cell_type": "code",
   "execution_count": 27,
   "id": "2f0fc820",
   "metadata": {},
   "outputs": [
    {
     "name": "stdout",
     "output_type": "stream",
     "text": [
      "set1 and set2 have no elements in common\n"
     ]
    }
   ],
   "source": [
    "#24. Check if a set is disjoint with another set.\n",
    "set1 = {1, 2, 3}\n",
    "set2 = {4, 5, 6}\n",
    "if set1.isdisjoint(set2):\n",
    "    print(\"set1 and set2 have no elements in common\")\n",
    "else:\n",
    "    print(\"set1 and set2 have elements in common\")"
   ]
  },
  {
   "cell_type": "code",
   "execution_count": 28,
   "id": "f4776e89",
   "metadata": {},
   "outputs": [
    {
     "name": "stdout",
     "output_type": "stream",
     "text": [
      "Set of squares: {1, 4, 9, 16, 25}\n"
     ]
    }
   ],
   "source": [
    "#25. Create a set of squares of numbers from 1 to 5.\n",
    "squares_set = {x**2 for x in range(1, 6)}\n",
    "print(\"Set of squares:\", squares_set)"
   ]
  },
  {
   "cell_type": "code",
   "execution_count": 29,
   "id": "1948bf00",
   "metadata": {},
   "outputs": [
    {
     "name": "stdout",
     "output_type": "stream",
     "text": [
      "Filtered set (only odd numbers): {1, 3, 5, 7, 9}\n"
     ]
    }
   ],
   "source": [
    "#26. Filter out all even numbers from a set.\n",
    "original_set = {1, 2, 3, 4, 5, 6, 7, 8, 9, 10}\n",
    "filtered_set = {x for x in original_set if x % 2 != 0}\n",
    "print(\"Filtered set (only odd numbers):\", filtered_set)"
   ]
  },
  {
   "cell_type": "code",
   "execution_count": 30,
   "id": "23df00ce",
   "metadata": {},
   "outputs": [
    {
     "name": "stdout",
     "output_type": "stream",
     "text": [
      "Modified set (elements multiplied by 2): {2, 4, 6, 8, 10}\n"
     ]
    }
   ],
   "source": [
    "#27. Multiply all elements in a set by 2.\n",
    "original_set = {1, 2, 3, 4, 5}\n",
    "modified_set = {x * 2 for x in original_set}\n",
    "print(\"Modified set (elements multiplied by 2):\", modified_set)"
   ]
  },
  {
   "cell_type": "code",
   "execution_count": 32,
   "id": "9439abf9",
   "metadata": {},
   "outputs": [
    {
     "name": "stdout",
     "output_type": "stream",
     "text": [
      "Set of random numbers: {2, 3, 4, 5, 10}\n"
     ]
    }
   ],
   "source": [
    "#28. Create a set of random numbers.\n",
    "import random\n",
    "random_set = set()\n",
    "while len(random_set) < 5:\n",
    "    random_set.add(random.randint(1, 10))\n",
    "\n",
    "print(\"Set of random numbers:\", random_set)"
   ]
  },
  {
   "cell_type": "code",
   "execution_count": 33,
   "id": "3a15184a",
   "metadata": {},
   "outputs": [
    {
     "name": "stdout",
     "output_type": "stream",
     "text": [
      "empty_set is empty\n",
      "non_empty_set is not empty\n"
     ]
    }
   ],
   "source": [
    "#29. Check if a set is empty.\n",
    "\n",
    "empty_set = set()\n",
    "non_empty_set = {1, 2, 3}\n",
    "\n",
    "# Check if sets are empty\n",
    "if not empty_set:\n",
    "    print(\"empty_set is empty\")\n",
    "else:\n",
    "    print(\"empty_set is not empty\")\n",
    "\n",
    "if not non_empty_set:\n",
    "    print(\"non_empty_set is empty\")\n",
    "else:\n",
    "    print(\"non_empty_set is not empty\")"
   ]
  },
  {
   "cell_type": "code",
   "execution_count": 34,
   "id": "7610a89f",
   "metadata": {},
   "outputs": [
    {
     "name": "stdout",
     "output_type": "stream",
     "text": [
      "Nested set: frozenset({frozenset({3, 4}), frozenset({5, 6, 7}), frozenset({1, 2})})\n"
     ]
    }
   ],
   "source": [
    "#30. Create a nested set (hint: use frozenset).\n",
    "nested_set = frozenset([\n",
    "    frozenset({1, 2}),\n",
    "    frozenset({3, 4}),\n",
    "    frozenset({5, 6, 7})\n",
    "])\n",
    "\n",
    "print(\"Nested set:\", nested_set)"
   ]
  },
  {
   "cell_type": "code",
   "execution_count": 35,
   "id": "a67c1459",
   "metadata": {},
   "outputs": [
    {
     "name": "stdout",
     "output_type": "stream",
     "text": [
      "Updated set after discarding element: {1, 2, 4, 5}\n"
     ]
    }
   ],
   "source": [
    "#31. Remove an element from a set using the discard method.\n",
    "my_set = {1, 2, 3, 4, 5}\n",
    "my_set.discard(3)\n",
    "\n",
    "print(\"Updated set after discarding element:\", my_set)"
   ]
  },
  {
   "cell_type": "code",
   "execution_count": 36,
   "id": "b828a141",
   "metadata": {},
   "outputs": [
    {
     "name": "stdout",
     "output_type": "stream",
     "text": [
      "set1 and set2 are not equal\n",
      "set1 is not a subset of set2\n",
      "set1 is not a superset of set2\n",
      "Intersection of set1 and set2: {3, 4, 5}\n"
     ]
    }
   ],
   "source": [
    "#32. Compare two sets.\n",
    "set1 = {1, 2, 3, 4, 5}\n",
    "set2 = {3, 4, 5, 6, 7}\n",
    "if set1 == set2:\n",
    "    print(\"set1 and set2 are equal\")\n",
    "else:\n",
    "    print(\"set1 and set2 are not equal\")\n",
    "    \n",
    "if set1 <= set2:\n",
    "    print(\"set1 is a subset of set2\")\n",
    "else:\n",
    "    print(\"set1 is not a subset of set2\")\n",
    "\n",
    "if set1 >= set2:\n",
    "    print(\"set1 is a superset of set2\")\n",
    "else:\n",
    "    print(\"set1 is not a superset of set2\")\n",
    "\n",
    "intersection_set = set1 & set2\n",
    "print(\"Intersection of set1 and set2:\", intersection_set)"
   ]
  },
  {
   "cell_type": "code",
   "execution_count": 37,
   "id": "a1e3d498",
   "metadata": {},
   "outputs": [
    {
     "name": "stdout",
     "output_type": "stream",
     "text": [
      "Set from string: {'o', 'h', 'l', 'e'}\n"
     ]
    }
   ],
   "source": [
    "#33. Create a set from a string.\n",
    "my_string = \"hello\"\n",
    "my_set = set(my_string)\n",
    "\n",
    "print(\"Set from string:\", my_set)"
   ]
  },
  {
   "cell_type": "code",
   "execution_count": 38,
   "id": "12ddd2da",
   "metadata": {},
   "outputs": [
    {
     "name": "stdout",
     "output_type": "stream",
     "text": [
      "Set of integers: {1, 2, 3, 4, 5}\n"
     ]
    }
   ],
   "source": [
    "#34. Convert a set of strings to a set of integers.\n",
    "set_of_strings = {\"1\", \"2\", \"3\", \"4\", \"5\"}\n",
    "set_of_integers = {int(x) for x in set_of_strings}\n",
    "\n",
    "print(\"Set of integers:\", set_of_integers)"
   ]
  },
  {
   "cell_type": "code",
   "execution_count": 39,
   "id": "a7968c20",
   "metadata": {},
   "outputs": [
    {
     "name": "stdout",
     "output_type": "stream",
     "text": [
      "Set of strings: {'4', '1', '5', '3', '2'}\n"
     ]
    }
   ],
   "source": [
    "#35. Convert a set of integers to a set of strings.\n",
    "set_of_integers = {1, 2, 3, 4, 5}\n",
    "set_of_strings = {str(x) for x in set_of_integers}\n",
    "\n",
    "print(\"Set of strings:\", set_of_strings)"
   ]
  },
  {
   "cell_type": "code",
   "execution_count": 40,
   "id": "4ff6726d",
   "metadata": {},
   "outputs": [
    {
     "name": "stdout",
     "output_type": "stream",
     "text": [
      "Set from tuple: {1, 2, 3, 4, 5}\n"
     ]
    }
   ],
   "source": [
    "#36. Create a set from a tuple.\n",
    "my_tuple = (1, 2, 3, 4, 5)\n",
    "my_set = set(my_tuple)\n",
    "\n",
    "print(\"Set from tuple:\", my_set)"
   ]
  },
  {
   "cell_type": "code",
   "execution_count": 41,
   "id": "cd8748ad",
   "metadata": {},
   "outputs": [
    {
     "name": "stdout",
     "output_type": "stream",
     "text": [
      "Tuple from set: (1, 2, 3, 4, 5)\n"
     ]
    }
   ],
   "source": [
    "#37. Convert a set to a tuple.\n",
    "my_set = {1, 2, 3, 4, 5}\n",
    "my_tuple = tuple(my_set)\n",
    "\n",
    "print(\"Tuple from set:\", my_tuple)"
   ]
  },
  {
   "cell_type": "code",
   "execution_count": 42,
   "id": "71f77e70",
   "metadata": {},
   "outputs": [
    {
     "name": "stdout",
     "output_type": "stream",
     "text": [
      "Maximum value in the set: 50\n"
     ]
    }
   ],
   "source": [
    "#38. Find the maximum value in a set.\n",
    "my_set = {10, 30, 20, 50, 40}\n",
    "max_value = max(my_set)\n",
    "\n",
    "print(\"Maximum value in the set:\", max_value)"
   ]
  },
  {
   "cell_type": "code",
   "execution_count": 43,
   "id": "ecf43fc8",
   "metadata": {},
   "outputs": [
    {
     "name": "stdout",
     "output_type": "stream",
     "text": [
      "Minimum value in the set: 10\n"
     ]
    }
   ],
   "source": [
    "#39. Find the minimum value in a set.\n",
    "my_set = {10, 30, 20, 50, 40}\n",
    "min_value = min(my_set)\n",
    "print(\"Minimum value in the set:\", min_value)"
   ]
  },
  {
   "cell_type": "code",
   "execution_count": 44,
   "id": "a3cac93f",
   "metadata": {},
   "outputs": [
    {
     "name": "stdout",
     "output_type": "stream",
     "text": [
      "Enter elements for the set (press Enter without input to finish):\n",
      "Enter element (or press Enter to finish): apple\n",
      "Enter element (or press Enter to finish): mango\n",
      "Enter element (or press Enter to finish): \n",
      "Set created from user input: {'mango', 'apple'}\n"
     ]
    }
   ],
   "source": [
    "#40. Create a set from user input.\n",
    "user_set = set()\n",
    "print(\"Enter elements for the set (press Enter without input to finish):\")\n",
    "while True:\n",
    "    element = input(\"Enter element (or press Enter to finish): \")\n",
    "    if element == \"\":\n",
    "        break\n",
    "    user_set.add(element)\n",
    "\n",
    "print(\"Set created from user input:\", user_set)"
   ]
  },
  {
   "cell_type": "code",
   "execution_count": 45,
   "id": "aa2c0759",
   "metadata": {},
   "outputs": [
    {
     "name": "stdout",
     "output_type": "stream",
     "text": [
      "The intersection of set1 and set2 is empty\n"
     ]
    }
   ],
   "source": [
    "#41. Check if the intersection of two sets is empty.\n",
    "set1 = {1, 2, 3}\n",
    "set2 = {4, 5, 6}\n",
    "\n",
    "if set1.isdisjoint(set2):\n",
    "    print(\"The intersection of set1 and set2 is empty\")\n",
    "else:\n",
    "    print(\"The intersection of set1 and set2 is not empty\")"
   ]
  },
  {
   "cell_type": "code",
   "execution_count": 46,
   "id": "ed816d76",
   "metadata": {},
   "outputs": [
    {
     "name": "stdout",
     "output_type": "stream",
     "text": [
      "Set of the first 5 Fibonacci numbers: {0, 1, 2, 3}\n"
     ]
    }
   ],
   "source": [
    "#42. Create a set of the first 5 Fibonacci numbers.\n",
    "def fibonacci(n):\n",
    "    fib_set = set()\n",
    "    a, b = 0, 1\n",
    "    count = 0\n",
    "    while count < n:\n",
    "        fib_set.add(a)\n",
    "        a, b = b, a + b\n",
    "        count += 1\n",
    "    return fib_set\n",
    "\n",
    "fibonacci_set = fibonacci(5)\n",
    "\n",
    "print(\"Set of the first 5 Fibonacci numbers:\", fibonacci_set)"
   ]
  },
  {
   "cell_type": "code",
   "execution_count": 47,
   "id": "a73db5bc",
   "metadata": {},
   "outputs": [
    {
     "name": "stdout",
     "output_type": "stream",
     "text": [
      "List with duplicates removed: [1, 2, 3, 4, 5, 6]\n"
     ]
    }
   ],
   "source": [
    "#43. Remove duplicates from a list using sets.\n",
    "my_list = [1, 2, 3, 4, 2, 3, 5, 1, 6]\n",
    "unique_items = list(set(my_list))\n",
    "print(\"List with duplicates removed:\", unique_items)"
   ]
  },
  {
   "cell_type": "code",
   "execution_count": 48,
   "id": "26fd8c41",
   "metadata": {},
   "outputs": [
    {
     "name": "stdout",
     "output_type": "stream",
     "text": [
      "set1 and set2 have the same elements\n",
      "set1 and set3 do not have the same elements\n",
      "set1 and set4 have the same elements\n"
     ]
    }
   ],
   "source": [
    "#44. Check if two sets have the same elements, regardless of their count.\n",
    "set1 = {1, 2, 3}\n",
    "set2 = {3, 2, 1}\n",
    "set3 = {1, 2, 3, 4}\n",
    "set4 = {1, 2, 2, 3}  # Contains duplicates, but treated as {1, 2, 3}\n",
    "\n",
    "# Check if sets are equivalent\n",
    "if set1 == set2:\n",
    "    print(\"set1 and set2 have the same elements\")\n",
    "else:\n",
    "    print(\"set1 and set2 do not have the same elements\")\n",
    "\n",
    "if set1 == set3:\n",
    "    print(\"set1 and set3 have the same elements\")\n",
    "else:\n",
    "    print(\"set1 and set3 do not have the same elements\")\n",
    "\n",
    "if set1 == set4:\n",
    "    print(\"set1 and set4 have the same elements\")\n",
    "else:\n",
    "    print(\"set1 and set4 do not have the same elements\")\n"
   ]
  },
  {
   "cell_type": "code",
   "execution_count": 49,
   "id": "4b4f5b6f",
   "metadata": {},
   "outputs": [
    {
     "name": "stdout",
     "output_type": "stream",
     "text": [
      "Set of the first 5 powers of 2: {1, 2, 4, 8, 16}\n"
     ]
    }
   ],
   "source": [
    "#45. Create a set of the first `n` powers of 2\n",
    "def powers_of_2(n):\n",
    "    powers_set = {2 ** i for i in range(n)}\n",
    "    return powers_set\n",
    "\n",
    "n = 5\n",
    "powers_set = powers_of_2(n)\n",
    "print(f\"Set of the first {n} powers of 2:\", powers_set)"
   ]
  },
  {
   "cell_type": "code",
   "execution_count": 50,
   "id": "8768f39f",
   "metadata": {},
   "outputs": [
    {
     "name": "stdout",
     "output_type": "stream",
     "text": [
      "Common elements between set and list: {3, 4, 5}\n"
     ]
    }
   ],
   "source": [
    "#46. Find the common elements between a set and a list.\n",
    "my_set = {1, 2, 3, 4, 5}\n",
    "my_list = [3, 4, 5, 6, 7]\n",
    "\n",
    "common_elements = my_set.intersection(my_list)\n",
    "print(\"Common elements between set and list:\", common_elements)"
   ]
  },
  {
   "cell_type": "code",
   "execution_count": 51,
   "id": "8563484b",
   "metadata": {},
   "outputs": [
    {
     "name": "stdout",
     "output_type": "stream",
     "text": [
      "Set of the first 5 triangular numbers: {1, 3, 6, 10, 15}\n"
     ]
    }
   ],
   "source": [
    "#47. Create a set of the first `n` triangular numbers.\n",
    "def triangular_numbers(n):\n",
    "    triangular_set = set()\n",
    "    for i in range(1, n + 1):\n",
    "        triangular_number = i * (i + 1) // 2\n",
    "        triangular_set.add(triangular_number)\n",
    "    return triangular_set\n",
    "n = 5\n",
    "triangular_set = triangular_numbers(n)\n",
    "\n",
    "# Print the set of triangular numbers\n",
    "print(f\"Set of the first {n} triangular numbers:\", triangular_set)"
   ]
  },
  {
   "cell_type": "code",
   "execution_count": 52,
   "id": "dbb246d1",
   "metadata": {},
   "outputs": [
    {
     "name": "stdout",
     "output_type": "stream",
     "text": [
      "set2 is a subset of set1\n",
      "set3 is not a subset of set1\n"
     ]
    }
   ],
   "source": [
    "#48. Check if a set contains another set as a subset.\n",
    "set1 = {1, 2, 3, 4, 5}\n",
    "set2 = {2, 3}\n",
    "set3 = {6, 7}\n",
    "\n",
    "if set2.issubset(set1):\n",
    "    print(\"set2 is a subset of set1\")\n",
    "else:\n",
    "    print(\"set2 is not a subset of set1\")\n",
    "\n",
    "if set3.issubset(set1):\n",
    "    print(\"set3 is a subset of set1\")\n",
    "else:\n",
    "    print(\"set3 is not a subset of set1\")"
   ]
  },
  {
   "cell_type": "code",
   "execution_count": 53,
   "id": "1cc154be",
   "metadata": {},
   "outputs": [
    {
     "name": "stdout",
     "output_type": "stream",
     "text": [
      "Set of alternating 1s and 0s of length 10: {1}\n"
     ]
    }
   ],
   "source": [
    "#49. Create a set of alternating 1s and 0s of length `n`.\n",
    "from itertools import cycle\n",
    "\n",
    "def alternating_set(n):\n",
    "    alternating = {int(next(cycle([1, 0]))) for _ in range(n)}\n",
    "    return alternating\n",
    "\n",
    "n = 10\n",
    "alternating_set = alternating_set(n)\n",
    "print(f\"Set of alternating 1s and 0s of length {n}:\", alternating_set)"
   ]
  },
  {
   "cell_type": "code",
   "execution_count": 54,
   "id": "7e0762a9",
   "metadata": {},
   "outputs": [
    {
     "name": "stdout",
     "output_type": "stream",
     "text": [
      "Merged set using union operator: {1, 2, 3, 4, 5, 6, 7}\n"
     ]
    }
   ],
   "source": [
    "#50. Merge multiple sets into one.\n",
    "set1 = {1, 2, 3}\n",
    "set2 = {3, 4, 5}\n",
    "set3 = {5, 6, 7}\n",
    "merged_set = set1 | set2 | set3\n",
    "print(\"Merged set using union operator:\", merged_set)"
   ]
  },
  {
   "cell_type": "code",
   "execution_count": null,
   "id": "f2aef3fb",
   "metadata": {},
   "outputs": [],
   "source": []
  }
 ],
 "metadata": {
  "kernelspec": {
   "display_name": "Python 3 (ipykernel)",
   "language": "python",
   "name": "python3"
  },
  "language_info": {
   "codemirror_mode": {
    "name": "ipython",
    "version": 3
   },
   "file_extension": ".py",
   "mimetype": "text/x-python",
   "name": "python",
   "nbconvert_exporter": "python",
   "pygments_lexer": "ipython3",
   "version": "3.10.9"
  }
 },
 "nbformat": 4,
 "nbformat_minor": 5
}
