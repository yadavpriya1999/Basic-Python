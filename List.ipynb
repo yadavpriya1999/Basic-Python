{
 "cells": [
  {
   "cell_type": "code",
   "execution_count": 1,
   "id": "0d64233a",
   "metadata": {},
   "outputs": [],
   "source": [
    "#1. Create a list with integers from 1 to 10."
   ]
  },
  {
   "cell_type": "code",
   "execution_count": 2,
   "id": "6db31c33",
   "metadata": {},
   "outputs": [
    {
     "data": {
      "text/plain": [
       "[0, 1, 2, 3, 4, 5, 6, 7, 8, 9, 10]"
      ]
     },
     "execution_count": 2,
     "metadata": {},
     "output_type": "execute_result"
    }
   ],
   "source": [
    "l=list(range(0,11))\n",
    "l"
   ]
  },
  {
   "cell_type": "code",
   "execution_count": 3,
   "id": "c2c1ec2a",
   "metadata": {},
   "outputs": [],
   "source": [
    "#2. Find the length of a list without using the `len()` function."
   ]
  },
  {
   "cell_type": "code",
   "execution_count": 4,
   "id": "64f5149b",
   "metadata": {},
   "outputs": [
    {
     "name": "stdout",
     "output_type": "stream",
     "text": [
      "11\n"
     ]
    }
   ],
   "source": [
    "l=[2,3,4,5,6,6,7,8,9,1,4]\n",
    "c=0\n",
    "for i in l:\n",
    "    c+=1\n",
    "print(c)"
   ]
  },
  {
   "cell_type": "code",
   "execution_count": 5,
   "id": "aef2f3e1",
   "metadata": {},
   "outputs": [],
   "source": [
    "#3.Append an element to the end of a list."
   ]
  },
  {
   "cell_type": "code",
   "execution_count": 6,
   "id": "7655b538",
   "metadata": {},
   "outputs": [
    {
     "data": {
      "text/plain": [
       "[2, 3, 4, 5, 6, 6, 7, 8, 9, 1, 4, 20]"
      ]
     },
     "execution_count": 6,
     "metadata": {},
     "output_type": "execute_result"
    }
   ],
   "source": [
    "l.append(20)\n",
    "l"
   ]
  },
  {
   "cell_type": "code",
   "execution_count": 7,
   "id": "bd645d67",
   "metadata": {},
   "outputs": [],
   "source": [
    "#5. Remove an element from a list by its value."
   ]
  },
  {
   "cell_type": "code",
   "execution_count": 8,
   "id": "60f0da53",
   "metadata": {},
   "outputs": [
    {
     "data": {
      "text/plain": [
       "[2, 3, 4, 5, 6, 6, 7, 8, 9, 1, 4]"
      ]
     },
     "execution_count": 8,
     "metadata": {},
     "output_type": "execute_result"
    }
   ],
   "source": [
    "l.remove(20)\n",
    "l"
   ]
  },
  {
   "cell_type": "code",
   "execution_count": 9,
   "id": "dda188fc",
   "metadata": {},
   "outputs": [],
   "source": [
    "#6. Remove an element from a list by its index"
   ]
  },
  {
   "cell_type": "code",
   "execution_count": 10,
   "id": "736107cf",
   "metadata": {},
   "outputs": [
    {
     "data": {
      "text/plain": [
       "[2, 3, 4, 5, 6, 6, 7, 8, 9, 1]"
      ]
     },
     "execution_count": 10,
     "metadata": {},
     "output_type": "execute_result"
    }
   ],
   "source": [
    "l.pop()\n",
    "l"
   ]
  },
  {
   "cell_type": "code",
   "execution_count": 11,
   "id": "4ce97c8a",
   "metadata": {},
   "outputs": [
    {
     "data": {
      "text/plain": [
       "5"
      ]
     },
     "execution_count": 11,
     "metadata": {},
     "output_type": "execute_result"
    }
   ],
   "source": [
    "l.pop(3)"
   ]
  },
  {
   "cell_type": "code",
   "execution_count": 12,
   "id": "44bd5511",
   "metadata": {},
   "outputs": [],
   "source": [
    "#7. Check if an element exists in a list.\n"
   ]
  },
  {
   "cell_type": "code",
   "execution_count": 13,
   "id": "0efa722d",
   "metadata": {},
   "outputs": [
    {
     "name": "stdout",
     "output_type": "stream",
     "text": [
      "Exist\n"
     ]
    }
   ],
   "source": [
    "ele=6\n",
    "if ele in l:\n",
    "    print(\"Exist\")\n",
    "else:\n",
    "    print(\"Not exist\")"
   ]
  },
  {
   "cell_type": "code",
   "execution_count": 14,
   "id": "67a4f679",
   "metadata": {},
   "outputs": [
    {
     "data": {
      "text/plain": [
       "[2, 3, 4, 6, 6, 7, 8, 9, 1]"
      ]
     },
     "execution_count": 14,
     "metadata": {},
     "output_type": "execute_result"
    }
   ],
   "source": [
    "l"
   ]
  },
  {
   "cell_type": "code",
   "execution_count": 15,
   "id": "62176746",
   "metadata": {},
   "outputs": [
    {
     "name": "stdout",
     "output_type": "stream",
     "text": [
      "True\n"
     ]
    }
   ],
   "source": [
    "element=any(lst in l for lst in l)\n",
    "print(element)"
   ]
  },
  {
   "cell_type": "code",
   "execution_count": 16,
   "id": "2421ba64",
   "metadata": {},
   "outputs": [
    {
     "name": "stdout",
     "output_type": "stream",
     "text": [
      "3\n"
     ]
    }
   ],
   "source": [
    "#8. Find the index of the first occurrence of an element in a list.\n",
    "idx=l.index(6)\n",
    "print(idx)"
   ]
  },
  {
   "cell_type": "code",
   "execution_count": 17,
   "id": "e6e9c57d",
   "metadata": {},
   "outputs": [
    {
     "name": "stdout",
     "output_type": "stream",
     "text": [
      "2\n"
     ]
    }
   ],
   "source": [
    "#9. Count the occurrences of an element in a list.\n",
    "c=l.count(6)\n",
    "print(c)"
   ]
  },
  {
   "cell_type": "code",
   "execution_count": 18,
   "id": "0a32294d",
   "metadata": {},
   "outputs": [
    {
     "data": {
      "text/plain": [
       "[1, 9, 8, 7, 6, 6, 4, 3, 2]"
      ]
     },
     "execution_count": 18,
     "metadata": {},
     "output_type": "execute_result"
    }
   ],
   "source": [
    "#10. Reverse the order of elements in a list.\n",
    "l.reverse()\n",
    "l"
   ]
  },
  {
   "cell_type": "code",
   "execution_count": 19,
   "id": "759297d0",
   "metadata": {},
   "outputs": [
    {
     "data": {
      "text/plain": [
       "[1, 2, 3, 4, 6, 6, 7, 8, 9]"
      ]
     },
     "execution_count": 19,
     "metadata": {},
     "output_type": "execute_result"
    }
   ],
   "source": [
    "#11. Sort a list in ascending order.\n",
    "l.sort()\n",
    "l"
   ]
  },
  {
   "cell_type": "code",
   "execution_count": 20,
   "id": "96a9318a",
   "metadata": {},
   "outputs": [
    {
     "data": {
      "text/plain": [
       "[9, 8, 7, 6, 6, 4, 3, 2, 1]"
      ]
     },
     "execution_count": 20,
     "metadata": {},
     "output_type": "execute_result"
    }
   ],
   "source": [
    "#12. Sort a list in descending order\n",
    "l.sort(reverse=True)\n",
    "l"
   ]
  },
  {
   "cell_type": "code",
   "execution_count": 21,
   "id": "bf23a3e0",
   "metadata": {},
   "outputs": [
    {
     "data": {
      "text/plain": [
       "[0, 2, 4, 6, 8, 10, 12, 14, 16, 18]"
      ]
     },
     "execution_count": 21,
     "metadata": {},
     "output_type": "execute_result"
    }
   ],
   "source": [
    "#13. Create a list of even numbers from 1 to 20.\n",
    "lst=list(range(0,20,2))\n",
    "lst"
   ]
  },
  {
   "cell_type": "code",
   "execution_count": 22,
   "id": "07c79b16",
   "metadata": {},
   "outputs": [
    {
     "data": {
      "text/plain": [
       "[1, 3, 5, 7, 9, 11, 13, 15, 17, 19]"
      ]
     },
     "execution_count": 22,
     "metadata": {},
     "output_type": "execute_result"
    }
   ],
   "source": [
    "#14. Create a list of odd numbers from 1 to 20\n",
    "lst=list(range(1,21,2))\n",
    "lst"
   ]
  },
  {
   "cell_type": "code",
   "execution_count": 23,
   "id": "0b1aeae6",
   "metadata": {},
   "outputs": [
    {
     "name": "stdout",
     "output_type": "stream",
     "text": [
      "46\n"
     ]
    }
   ],
   "source": [
    "#15. Find the sum of all elements in a list.\n",
    "sum_lst=sum(l)\n",
    "print(sum_lst)"
   ]
  },
  {
   "cell_type": "code",
   "execution_count": 24,
   "id": "dce25245",
   "metadata": {},
   "outputs": [
    {
     "name": "stdout",
     "output_type": "stream",
     "text": [
      "9\n"
     ]
    }
   ],
   "source": [
    "#16. Find the maximum value in a list.\n",
    "print(max(l))"
   ]
  },
  {
   "cell_type": "code",
   "execution_count": 25,
   "id": "44f15f16",
   "metadata": {},
   "outputs": [],
   "source": [
    "#17. Find the minimum value in a list."
   ]
  },
  {
   "cell_type": "code",
   "execution_count": 26,
   "id": "b0bf3739",
   "metadata": {},
   "outputs": [
    {
     "name": "stdout",
     "output_type": "stream",
     "text": [
      "1\n"
     ]
    }
   ],
   "source": [
    "print(min(l))"
   ]
  },
  {
   "cell_type": "code",
   "execution_count": 27,
   "id": "eb2a93ae",
   "metadata": {},
   "outputs": [],
   "source": [
    "#18. Create a list of squares of numbers from 1 to 10."
   ]
  },
  {
   "cell_type": "code",
   "execution_count": 28,
   "id": "5dbacec0",
   "metadata": {},
   "outputs": [
    {
     "data": {
      "text/plain": [
       "[1, 4, 9, 16, 25, 36, 49, 64, 81, 100]"
      ]
     },
     "execution_count": 28,
     "metadata": {},
     "output_type": "execute_result"
    }
   ],
   "source": [
    "s=[x**2 for x in range(1,11)]\n",
    "s"
   ]
  },
  {
   "cell_type": "code",
   "execution_count": 29,
   "id": "84a513af",
   "metadata": {},
   "outputs": [],
   "source": [
    "#19. Create a list of random numbers.\n"
   ]
  },
  {
   "cell_type": "code",
   "execution_count": 30,
   "id": "2881f25c",
   "metadata": {},
   "outputs": [
    {
     "data": {
      "text/plain": [
       "[4, 16, 17, 6, 3]"
      ]
     },
     "execution_count": 30,
     "metadata": {},
     "output_type": "execute_result"
    }
   ],
   "source": [
    "import random\n",
    "l=random.sample(range(1,20),5)\n",
    "l"
   ]
  },
  {
   "cell_type": "code",
   "execution_count": 31,
   "id": "13963621",
   "metadata": {},
   "outputs": [
    {
     "data": {
      "text/plain": [
       "[17, 16, 9, 9, 11, 12, 2, 8, 18]"
      ]
     },
     "execution_count": 31,
     "metadata": {},
     "output_type": "execute_result"
    }
   ],
   "source": [
    "l=[]\n",
    "for i in range(1,10):\n",
    "    l.append(random.randint(1,20))\n",
    "l"
   ]
  },
  {
   "cell_type": "code",
   "execution_count": 32,
   "id": "4a4ec6e0",
   "metadata": {},
   "outputs": [],
   "source": [
    "#20. Remove duplicates from a list.\n"
   ]
  },
  {
   "cell_type": "code",
   "execution_count": 33,
   "id": "d87cccc9",
   "metadata": {},
   "outputs": [
    {
     "data": {
      "text/plain": [
       "[2, 3, 4, 1, 5, 6]"
      ]
     },
     "execution_count": 33,
     "metadata": {},
     "output_type": "execute_result"
    }
   ],
   "source": [
    "#menthod1:using loop\n",
    "l=[2,3,4,1,2,2,2,4,4,5,6,6,6,6,6]\n",
    "unique_lst=[]\n",
    "\n",
    "for i in l:\n",
    "    if i not in unique_lst:\n",
    "        unique_lst.append(i)\n",
    "        \n",
    "unique_lst"
   ]
  },
  {
   "cell_type": "code",
   "execution_count": 34,
   "id": "6bcf555b",
   "metadata": {},
   "outputs": [
    {
     "data": {
      "text/plain": [
       "{1, 2, 3, 4, 5, 6}"
      ]
     },
     "execution_count": 34,
     "metadata": {},
     "output_type": "execute_result"
    }
   ],
   "source": [
    "#method 2:usind set\n",
    "l=[2,3,4,1,2,2,2,4,4,5,6,6,6,6,6]\n",
    "s=set(l)\n",
    "s"
   ]
  },
  {
   "cell_type": "code",
   "execution_count": 35,
   "id": "5f6c86fe",
   "metadata": {},
   "outputs": [
    {
     "name": "stdout",
     "output_type": "stream",
     "text": [
      "5\n"
     ]
    }
   ],
   "source": [
    "#21. Find the common elements between two lists.\n",
    "#Method:1\n",
    "l1=[2,2,1,5,6]\n",
    "l2=[4,9,3,12,45,5]\n",
    "for i in l1:\n",
    "    for j in l2:\n",
    "        if i==j:\n",
    "            print(i)\n",
    "            break\n",
    "            "
   ]
  },
  {
   "cell_type": "code",
   "execution_count": 36,
   "id": "2ddd041f",
   "metadata": {},
   "outputs": [
    {
     "name": "stdout",
     "output_type": "stream",
     "text": [
      "[4, 5]\n"
     ]
    }
   ],
   "source": [
    "#Method:2\n",
    "l1=[1, 2, 3, 4, 5]\n",
    "l2=[4, 5, 6, 7, 8]\n",
    "\n",
    "common_ele=list(set(l1).intersection(l2))\n",
    "print(common_ele)"
   ]
  },
  {
   "cell_type": "code",
   "execution_count": 38,
   "id": "dc10cd5b",
   "metadata": {},
   "outputs": [
    {
     "name": "stdout",
     "output_type": "stream",
     "text": [
      "[1, 2, 3]\n",
      "[8, 6, 7]\n"
     ]
    }
   ],
   "source": [
    "#22. Find the difference between two lists.\n",
    "l1=[1, 2, 3, 4, 5]\n",
    "l2=[4, 5, 6, 7, 8]\n",
    "diff_ele1=list(set(l1)-set(l2))\n",
    "diff_ele2=list(set(l2)-set(l1))\n",
    "print(diff_ele1)\n",
    "print(diff_ele2)"
   ]
  },
  {
   "cell_type": "code",
   "execution_count": 39,
   "id": "96eb69d0",
   "metadata": {},
   "outputs": [
    {
     "name": "stdout",
     "output_type": "stream",
     "text": [
      "[1, 2, 3, 4, 5, 4, 5, 6, 7, 8]\n"
     ]
    }
   ],
   "source": [
    "#23. Merge two lists.\n",
    "l1=[1, 2, 3, 4, 5]\n",
    "l2=[4, 5, 6, 7, 8]\n",
    "print(l1+l2)"
   ]
  },
  {
   "cell_type": "code",
   "execution_count": 41,
   "id": "4b7b79eb",
   "metadata": {},
   "outputs": [
    {
     "name": "stdout",
     "output_type": "stream",
     "text": [
      "[2, 4, 6, 8, 10]\n"
     ]
    }
   ],
   "source": [
    "#24. Multiply all elements in a list by 2\n",
    "l1=[1, 2, 3, 4, 5]\n",
    "\n",
    "mul_ele=[x*2 for x in l1]\n",
    "print(mul_ele)"
   ]
  },
  {
   "cell_type": "code",
   "execution_count": 42,
   "id": "9ab99128",
   "metadata": {},
   "outputs": [
    {
     "name": "stdout",
     "output_type": "stream",
     "text": [
      "2\n",
      "4\n",
      "6\n",
      "8\n"
     ]
    }
   ],
   "source": [
    "#25. Filter out all even numbers from a list.\n",
    "l1=[1,2,3,4,5,6,7,8]\n",
    "\n",
    "for i in l1:\n",
    "    if i%2==0:\n",
    "        print(i)\n"
   ]
  },
  {
   "cell_type": "code",
   "execution_count": 49,
   "id": "837e3abe",
   "metadata": {},
   "outputs": [
    {
     "name": "stdout",
     "output_type": "stream",
     "text": [
      "['H', 'e', 'l', 'l', 'o', ' ', 'W', 'o', 'r', 'd']\n"
     ]
    }
   ],
   "source": [
    "#26. Convert a list of strings to a list of integers.\n",
    "\n",
    "str=\"Hello Word\"\n",
    "l=list(str)\n",
    "print(l)"
   ]
  },
  {
   "cell_type": "code",
   "execution_count": 3,
   "id": "62245dec",
   "metadata": {},
   "outputs": [
    {
     "name": "stdout",
     "output_type": "stream",
     "text": [
      "['2', '3', '4', '5', '6']\n",
      "['2', '3', '4', '5', '6']\n"
     ]
    }
   ],
   "source": [
    "#27. Convert a list of integers to a list of strings.\n",
    "#Method:1-->using Map function\n",
    "integer_lst=[2,3,4,5,6]\n",
    "s=list(map(str,integer_lst))\n",
    "print(s)\n",
    "\n",
    "#Method:2-->using \n",
    "integer_lst=[2,3,4,5,6]\n",
    "string=[str(i) for i in integer_lst]\n",
    "print(string)"
   ]
  },
  {
   "cell_type": "code",
   "execution_count": 5,
   "id": "ccb1603f",
   "metadata": {},
   "outputs": [
    {
     "name": "stdout",
     "output_type": "stream",
     "text": [
      "[1, 2, 3, 4, 5, 6, 7, 8]\n"
     ]
    }
   ],
   "source": [
    "#28. Flatten a nested list.\n",
    "\n",
    "#using list  comprehension\n",
    "nested_list = [[1, 2, 3], [4, 5], [6, 7, 8]]\n",
    "flatten_list=[item for sl in nested_list for item in sl]\n",
    "print(flatten_list)"
   ]
  },
  {
   "cell_type": "code",
   "execution_count": 8,
   "id": "2ceaf5ef",
   "metadata": {},
   "outputs": [
    {
     "name": "stdout",
     "output_type": "stream",
     "text": [
      "[1, 2, 3, 4, 5, 6, 7, 8]\n"
     ]
    }
   ],
   "source": [
    "#using itertools\n",
    "import itertools\n",
    "\n",
    "nested_list = [[1, 2, 3], [4, 5], [6, 7, 8]]\n",
    "flatten_list=list(itertools.chain(*nested_list))\n",
    "print(flatten_list)"
   ]
  },
  {
   "cell_type": "code",
   "execution_count": 10,
   "id": "577b3f18",
   "metadata": {},
   "outputs": [
    {
     "name": "stdout",
     "output_type": "stream",
     "text": [
      "[0, 1, 1, 2, 3, 5, 8, 13, 21, 34]\n"
     ]
    }
   ],
   "source": [
    "#29. Create a list of the first 10 Fibonacci numbers.\n",
    "\n",
    "\n",
    "#initialize the first two fibonacci number\n",
    "fibbo_num=[0,1]\n",
    "for i in range(2,10): #define rest 8\n",
    "    next_num=fibbo_num[-1]+fibbo_num[-2]\n",
    "    fibbo_num.append(next_num)\n",
    "print(fibbo_num)"
   ]
  },
  {
   "cell_type": "code",
   "execution_count": 15,
   "id": "7954de0d",
   "metadata": {},
   "outputs": [
    {
     "name": "stdout",
     "output_type": "stream",
     "text": [
      "True\n",
      "False\n"
     ]
    }
   ],
   "source": [
    "#30. Check if a list is sorted.\n",
    "\n",
    "def is_sorted(lst):\n",
    "    for i in range(len(lst)-1):\n",
    "        if lst[i]>lst[i+1]:\n",
    "            return False\n",
    "    return True\n",
    "\n",
    "list1=[2,4,7,9,12]\n",
    "print(is_sorted(list1))\n",
    "\n",
    "list2=[11,4,7,9,12]\n",
    "print(is_sorted(list2))"
   ]
  },
  {
   "cell_type": "code",
   "execution_count": 18,
   "id": "5c6b5dd3",
   "metadata": {},
   "outputs": [
    {
     "name": "stdout",
     "output_type": "stream",
     "text": [
      "[3, 4, 5, 1, 2]\n"
     ]
    }
   ],
   "source": [
    "#31. Rotate a list to the left by `n` positions.\n",
    "\n",
    "def rotate_left(lst,n):\n",
    "    n=n%len(lst)\n",
    "    return lst[n:]+lst[:n]\n",
    "\n",
    "list1=[1,2,3,4,5]\n",
    "n=2\n",
    "rotated_lst=rotate_left(list1,n)\n",
    "print(rotated_lst)"
   ]
  },
  {
   "cell_type": "code",
   "execution_count": 20,
   "id": "8594282e",
   "metadata": {},
   "outputs": [
    {
     "name": "stdout",
     "output_type": "stream",
     "text": [
      "[4, 5, 1, 2, 3]\n"
     ]
    }
   ],
   "source": [
    "#32. Rotate a list to the right by `n` positions.\n",
    "\n",
    "def rotate_right(lst,n):\n",
    "    n=n%len(lst)\n",
    "    return lst[-n:]+lst[:-n]\n",
    "\n",
    "list1=[1,2,3,4,5]\n",
    "n=2\n",
    "rotated_lst=rotate_right(list1,n)\n",
    "print(rotated_lst)"
   ]
  },
  {
   "cell_type": "code",
   "execution_count": 29,
   "id": "9ba3a6e8",
   "metadata": {},
   "outputs": [
    {
     "name": "stdout",
     "output_type": "stream",
     "text": [
      "[2, 3, 5, 7, 11, 13, 17, 19, 23, 29, 31, 37, 41, 43, 47]\n"
     ]
    }
   ],
   "source": [
    "#33. Create a list of prime numbers up to 50.\n",
    "\n",
    "def is_prime(n):\n",
    "    if n <=1:\n",
    "        return False\n",
    "    for i in range(2,int(n**0.5)+1):\n",
    "        if n%i==0:\n",
    "            return False\n",
    "    return True\n",
    "\n",
    "def prime_50():\n",
    "    primes=[]\n",
    "    for n in range(2,51):\n",
    "        if is_prime(n):\n",
    "            primes.append(n)\n",
    "            \n",
    "    return primes\n",
    "\n",
    "prime_numbers=prime_50()\n",
    "print(prime_numbers)"
   ]
  },
  {
   "cell_type": "code",
   "execution_count": 30,
   "id": "0aa503ea",
   "metadata": {},
   "outputs": [
    {
     "name": "stdout",
     "output_type": "stream",
     "text": [
      "[[1, 2, 3], [4, 5, 6], [7, 8, 9]]\n"
     ]
    }
   ],
   "source": [
    "#34. Split a list into chunks of size `n`.\n",
    "\n",
    "def split_chunks(lst,n):\n",
    "    chunks=[]\n",
    "    for i in range(0,len(lst),n):\n",
    "        chunks.append(lst[i:i+n])\n",
    "    return chunks\n",
    "\n",
    "list1=[1,2,3,4,5,6,7,8,9]\n",
    "n=3\n",
    "print(split_chunks(list1,n))"
   ]
  },
  {
   "cell_type": "code",
   "execution_count": 33,
   "id": "3d41cdff",
   "metadata": {},
   "outputs": [
    {
     "name": "stdout",
     "output_type": "stream",
     "text": [
      "Second largest number: 5\n"
     ]
    }
   ],
   "source": [
    "#35. Find the second largest number in a list.\n",
    "def second_largest(lst):\n",
    "    unique_sorted_lst=sorted(set(lst),reverse=True)\n",
    "    if len(unique_sorted_lst) < 2:\n",
    "        return None\n",
    "    return unique_sorted_lst[1]\n",
    "\n",
    "example_list = [3, 1, 4, 5, 9, 2]\n",
    "result = second_largest(example_list)\n",
    "print(\"Second largest number:\", result) "
   ]
  },
  {
   "cell_type": "code",
   "execution_count": 34,
   "id": "2cd9731e",
   "metadata": {},
   "outputs": [
    {
     "name": "stdout",
     "output_type": "stream",
     "text": [
      "[1, 4, 9, 16, 25]\n"
     ]
    }
   ],
   "source": [
    "#36. Replace every element in a list with its square.\n",
    "\n",
    "def square_elements(lst):\n",
    "    # Using list comprehension to square each element\n",
    "    squared_list = [x ** 2 for x in lst]\n",
    "    return squared_list\n",
    "\n",
    "example_list = [1, 2, 3, 4, 5]\n",
    "result = square_elements(example_list)\n",
    "print(result) "
   ]
  },
  {
   "cell_type": "code",
   "execution_count": 38,
   "id": "8803a658",
   "metadata": {},
   "outputs": [
    {
     "name": "stdout",
     "output_type": "stream",
     "text": [
      "{'apple': 0, 'banana': 1, 'cherry': 2, 'date': 3}\n"
     ]
    }
   ],
   "source": [
    "#37. Convert a list to a dictionary where list elements become keys and their indices become values.\n",
    "\n",
    "def list_dict(lst):\n",
    "    dict_indices={value : index for index, value in enumerate(lst)}\n",
    "    return dict_indices\n",
    "\n",
    "example_list = ['apple', 'banana', 'cherry', 'date']\n",
    "result = list_dict(example_list)\n",
    "print(result)"
   ]
  },
  {
   "cell_type": "code",
   "execution_count": 39,
   "id": "7dec4d64",
   "metadata": {},
   "outputs": [
    {
     "name": "stdout",
     "output_type": "stream",
     "text": [
      "[5, 3, 2, 1, 4]\n"
     ]
    }
   ],
   "source": [
    "#38. Shuffle the elements of a list randomly.\n",
    "import random\n",
    "\n",
    "def shuffle_list(lst):\n",
    "    # Shuffle the list in place\n",
    "    random.shuffle(lst)\n",
    "\n",
    "example_list = [1, 2, 3, 4, 5]\n",
    "shuffle_list(example_list)\n",
    "print(example_list) "
   ]
  },
  {
   "cell_type": "code",
   "execution_count": 40,
   "id": "87e67ebf",
   "metadata": {},
   "outputs": [
    {
     "name": "stdout",
     "output_type": "stream",
     "text": [
      "[1, 1, 2, 6, 24, 120, 720, 5040, 40320, 362880]\n"
     ]
    }
   ],
   "source": [
    "#39. Create a list of the first 10 factorial numbers.\n",
    "def factorial(n):\n",
    "    if n == 0 or n == 1:\n",
    "        return 1\n",
    "    result = 1\n",
    "    for i in range(2, n + 1):\n",
    "        result *= i\n",
    "    return result\n",
    "first_10_factorials = [factorial(i) for i in range(10)]\n",
    "print(first_10_factorials)"
   ]
  },
  {
   "cell_type": "code",
   "execution_count": 42,
   "id": "5b346a36",
   "metadata": {},
   "outputs": [
    {
     "name": "stdout",
     "output_type": "stream",
     "text": [
      "True\n",
      "False\n"
     ]
    }
   ],
   "source": [
    "#40. Check if two lists have at least one element in common.\n",
    "def has_common_element(list1, list2):\n",
    "    \n",
    "    set1 = set(list1)\n",
    "    set2 = set(list2)\n",
    "    if set1.intersection(set2):\n",
    "        return True\n",
    "    else:\n",
    "        return False\n",
    "    \n",
    "    \n",
    "list1 = [1, 2, 3, 4, 5]\n",
    "list2 = [5, 6, 7, 8, 9]\n",
    "result = has_common_element(list1, list2)\n",
    "print(result)  \n",
    "\n",
    "list1 = [1, 2, 3, 4]\n",
    "list2 = [5, 6, 7, 8, 9]\n",
    "result = has_common_element(list1, list2)\n",
    "print(result) "
   ]
  },
  {
   "cell_type": "code",
   "execution_count": 44,
   "id": "3950ab3d",
   "metadata": {},
   "outputs": [
    {
     "name": "stdout",
     "output_type": "stream",
     "text": [
      "[]\n"
     ]
    }
   ],
   "source": [
    "#41. Remove all elements from a list.\n",
    "\n",
    "def remove_elements_inplace(lst):\n",
    "    lst.clear()\n",
    "\n",
    "example_list = [1, 2, 3, 4, 5]\n",
    "remove_elements_inplace(example_list)\n",
    "print(example_list) \n"
   ]
  },
  {
   "cell_type": "code",
   "execution_count": 1,
   "id": "c8c575e6",
   "metadata": {},
   "outputs": [
    {
     "name": "stdout",
     "output_type": "stream",
     "text": [
      "[3, 0, 0, 4, 0, 9]\n"
     ]
    }
   ],
   "source": [
    "#42. Replace negative numbers in a list with 0.\n",
    "def replace_negatives_with_zero(numbers):\n",
    "    return [0 if x < 0 else x for x in numbers]\n",
    "\n",
    "\n",
    "numbers = [3, -1, -7, 4, -5, 9]\n",
    "result = replace_negatives_with_zero(numbers)\n",
    "print(result) "
   ]
  },
  {
   "cell_type": "code",
   "execution_count": 2,
   "id": "5971827f",
   "metadata": {},
   "outputs": [
    {
     "name": "stdout",
     "output_type": "stream",
     "text": [
      "['Convert', 'this', 'string', 'into', 'a', 'list', 'of', 'words']\n"
     ]
    }
   ],
   "source": [
    "#43. Convert a string into a list of words.\n",
    "def string_to_words(s):\n",
    "    return s.split()\n",
    "\n",
    "sentence = \"Convert this string into a list of words\"\n",
    "words_list = string_to_words(sentence)\n",
    "print(words_list)"
   ]
  },
  {
   "cell_type": "code",
   "execution_count": 3,
   "id": "174114f6",
   "metadata": {},
   "outputs": [
    {
     "name": "stdout",
     "output_type": "stream",
     "text": [
      "Convert this list of words into a string\n"
     ]
    }
   ],
   "source": [
    "#44. Convert a list of words into a string.\n",
    "def words_to_string(words):\n",
    "    return ' '.join(words)\n",
    "\n",
    "words_list = ['Convert', 'this', 'list', 'of', 'words', 'into', 'a', 'string']\n",
    "sentence = words_to_string(words_list)\n",
    "print(sentence)"
   ]
  },
  {
   "cell_type": "code",
   "execution_count": 4,
   "id": "a11460ce",
   "metadata": {},
   "outputs": [
    {
     "name": "stdout",
     "output_type": "stream",
     "text": [
      "[1, 2, 4, 8, 16, 32, 64, 128, 256, 512]\n"
     ]
    }
   ],
   "source": [
    "#45. Create a list of the first `n` powers of 2.\n",
    "def powers_of_2(n):\n",
    "    return [2**i for i in range(n)]\n",
    "\n",
    "n = 10\n",
    "powers_list = powers_of_2(n)\n",
    "print(powers_list)"
   ]
  },
  {
   "cell_type": "code",
   "execution_count": 5,
   "id": "139191e2",
   "metadata": {},
   "outputs": [
    {
     "name": "stdout",
     "output_type": "stream",
     "text": [
      "strawberry\n"
     ]
    }
   ],
   "source": [
    "#46. Find the longest string in a list of strings.\n",
    "def longest_string(strings):\n",
    "    return max(strings, key=len)\n",
    "\n",
    "strings_list = [\"apple\", \"banana\", \"cherry\", \"blueberry\", \"strawberry\"]\n",
    "longest = longest_string(strings_list)\n",
    "print(longest)"
   ]
  },
  {
   "cell_type": "code",
   "execution_count": 6,
   "id": "1d107da1",
   "metadata": {},
   "outputs": [
    {
     "name": "stdout",
     "output_type": "stream",
     "text": [
      "kiwi\n"
     ]
    }
   ],
   "source": [
    "#47. Find the shortest string in a list of strings.\n",
    "def shortest_string(strings):\n",
    "    return min(strings, key=len)\n",
    "\n",
    "strings_list = [\"apple\", \"banana\", \"cherry\", \"blueberry\", \"kiwi\"]\n",
    "shortest = shortest_string(strings_list)\n",
    "print(shortest)"
   ]
  },
  {
   "cell_type": "code",
   "execution_count": 7,
   "id": "a3e95bf4",
   "metadata": {},
   "outputs": [
    {
     "name": "stdout",
     "output_type": "stream",
     "text": [
      "[1, 3, 6, 10, 15, 21, 28, 36, 45, 55]\n"
     ]
    }
   ],
   "source": [
    "#48. Create a list of the first `n` triangular numbers.\n",
    "def triangular_numbers(n):\n",
    "    return [(i * (i + 1)) // 2 for i in range(1, n + 1)]\n",
    "\n",
    "n = 10\n",
    "triangular_list = triangular_numbers(n)\n",
    "print(triangular_list)"
   ]
  },
  {
   "cell_type": "code",
   "execution_count": 8,
   "id": "fb4ffc02",
   "metadata": {},
   "outputs": [
    {
     "name": "stdout",
     "output_type": "stream",
     "text": [
      "True\n",
      "False\n"
     ]
    }
   ],
   "source": [
    "#49. Check if a list contains another list as a subsequence.\n",
    "def is_subsequence(main_list, sub_list):\n",
    "    sub_len = len(sub_list)\n",
    "    for i in range(len(main_list) - sub_len + 1):\n",
    "        if main_list[i:i + sub_len] == sub_list:\n",
    "            return True\n",
    "    return False\n",
    "\n",
    "main_list = [1, 2, 3, 4, 5, 6]\n",
    "sub_list = [2, 3, 4]\n",
    "\n",
    "result = is_subsequence(main_list, sub_list)\n",
    "print(result) \n",
    "\n",
    "sub_list = [2, 4, 5]\n",
    "result = is_subsequence(main_list, sub_list)\n",
    "print(result)"
   ]
  },
  {
   "cell_type": "code",
   "execution_count": 9,
   "id": "1fffbb50",
   "metadata": {},
   "outputs": [
    {
     "name": "stdout",
     "output_type": "stream",
     "text": [
      "[1, 4, 3, 2, 5]\n"
     ]
    }
   ],
   "source": [
    "#50. Swap two elements in a list by their indices.\n",
    "def swap_elements(lst, index1, index2):\n",
    "    lst[index1], lst[index2] = lst[index2], lst[index1]\n",
    "\n",
    "my_list = [1, 2, 3, 4, 5]\n",
    "swap_elements(my_list, 1, 3)\n",
    "print(my_list)"
   ]
  },
  {
   "cell_type": "code",
   "execution_count": null,
   "id": "5e93e65f",
   "metadata": {},
   "outputs": [],
   "source": []
  }
 ],
 "metadata": {
  "kernelspec": {
   "display_name": "Python 3 (ipykernel)",
   "language": "python",
   "name": "python3"
  },
  "language_info": {
   "codemirror_mode": {
    "name": "ipython",
    "version": 3
   },
   "file_extension": ".py",
   "mimetype": "text/x-python",
   "name": "python",
   "nbconvert_exporter": "python",
   "pygments_lexer": "ipython3",
   "version": "3.10.9"
  }
 },
 "nbformat": 4,
 "nbformat_minor": 5
}
