{
 "cells": [
  {
   "cell_type": "code",
   "execution_count": 1,
   "id": "6c9116fb",
   "metadata": {},
   "outputs": [],
   "source": [
    "#1. Write a program to reverse a string.\n"
   ]
  },
  {
   "cell_type": "code",
   "execution_count": 2,
   "id": "674e5b4b",
   "metadata": {},
   "outputs": [
    {
     "data": {
      "text/plain": [
       "'sllikswp'"
      ]
     },
     "execution_count": 2,
     "metadata": {},
     "output_type": "execute_result"
    }
   ],
   "source": [
    "s=\"pwskills\"\n",
    "s[::-1]"
   ]
  },
  {
   "cell_type": "code",
   "execution_count": 3,
   "id": "c7d577ae",
   "metadata": {},
   "outputs": [],
   "source": [
    "#2. Check if a string is a palindrome.\n"
   ]
  },
  {
   "cell_type": "code",
   "execution_count": 4,
   "id": "87fa7386",
   "metadata": {},
   "outputs": [
    {
     "name": "stdout",
     "output_type": "stream",
     "text": [
      "Palindrome\n"
     ]
    }
   ],
   "source": [
    "s=\"naman\"\n",
    "reverse_s=s[::-1]\n",
    "if s==reverse_s:\n",
    "    print(\"Palindrome\")\n",
    "else:\n",
    "    print(\"Not Palindrome\")"
   ]
  },
  {
   "cell_type": "code",
   "execution_count": 5,
   "id": "1fcf8018",
   "metadata": {},
   "outputs": [],
   "source": [
    "#3. Convert a string to uppercase."
   ]
  },
  {
   "cell_type": "code",
   "execution_count": 6,
   "id": "89e31264",
   "metadata": {},
   "outputs": [
    {
     "data": {
      "text/plain": [
       "'PYTHON'"
      ]
     },
     "execution_count": 6,
     "metadata": {},
     "output_type": "execute_result"
    }
   ],
   "source": [
    "s=\"python\"\n",
    "s.upper()"
   ]
  },
  {
   "cell_type": "code",
   "execution_count": 7,
   "id": "c52c7873",
   "metadata": {},
   "outputs": [],
   "source": [
    "#4. Convert a string to lowercase."
   ]
  },
  {
   "cell_type": "code",
   "execution_count": 8,
   "id": "b9efddc5",
   "metadata": {},
   "outputs": [
    {
     "data": {
      "text/plain": [
       "'pwskills'"
      ]
     },
     "execution_count": 8,
     "metadata": {},
     "output_type": "execute_result"
    }
   ],
   "source": [
    "s=\"PWSKILLS\"\n",
    "s.lower()"
   ]
  },
  {
   "cell_type": "code",
   "execution_count": 9,
   "id": "b83f106e",
   "metadata": {},
   "outputs": [],
   "source": [
    "#5. Count the number of vowels in a string."
   ]
  },
  {
   "cell_type": "code",
   "execution_count": 10,
   "id": "4b357728",
   "metadata": {},
   "outputs": [
    {
     "name": "stdout",
     "output_type": "stream",
     "text": [
      "4\n"
     ]
    }
   ],
   "source": [
    "s=\"i love python\"\n",
    "vowels=\"aeiouAEIOU\"\n",
    "c=0\n",
    "for i in s:\n",
    "    if i in vowels:\n",
    "        c+=1\n",
    "print(c)"
   ]
  },
  {
   "cell_type": "code",
   "execution_count": 11,
   "id": "84cec912",
   "metadata": {},
   "outputs": [],
   "source": [
    "#6. Count the number of consonants in a string."
   ]
  },
  {
   "cell_type": "code",
   "execution_count": 12,
   "id": "85e496b1",
   "metadata": {},
   "outputs": [
    {
     "name": "stdout",
     "output_type": "stream",
     "text": [
      "9\n"
     ]
    }
   ],
   "source": [
    "s=\"i love python\"\n",
    "vowels=\"aeiouAEIOU\"\n",
    "c=0\n",
    "for i in s:\n",
    "    if i not in vowels:\n",
    "        c+=1\n",
    "print(c)"
   ]
  },
  {
   "cell_type": "code",
   "execution_count": 13,
   "id": "11525bf1",
   "metadata": {},
   "outputs": [],
   "source": [
    "#7. Remove all whitespaces from a string.\n"
   ]
  },
  {
   "cell_type": "code",
   "execution_count": 14,
   "id": "f346db0e",
   "metadata": {},
   "outputs": [
    {
     "data": {
      "text/plain": [
       "'pyhton$cpp$java$react'"
      ]
     },
     "execution_count": 14,
     "metadata": {},
     "output_type": "execute_result"
    }
   ],
   "source": [
    "s=\"pyhton cpp java react\"\n",
    "s.replace(\" \",'$')"
   ]
  },
  {
   "cell_type": "code",
   "execution_count": 15,
   "id": "366fb399",
   "metadata": {},
   "outputs": [],
   "source": [
    "#.8 Find the length of a string without using the `len()` function."
   ]
  },
  {
   "cell_type": "code",
   "execution_count": 16,
   "id": "bf5a15cd",
   "metadata": {},
   "outputs": [
    {
     "name": "stdout",
     "output_type": "stream",
     "text": [
      "13\n"
     ]
    }
   ],
   "source": [
    "s=\"i love python\"\n",
    "c=0\n",
    "for i in s:\n",
    "    c+=1\n",
    "print(c)"
   ]
  },
  {
   "cell_type": "code",
   "execution_count": 17,
   "id": "70b9e7da",
   "metadata": {},
   "outputs": [],
   "source": [
    "#9. Check if a string contains a specific word."
   ]
  },
  {
   "cell_type": "code",
   "execution_count": 18,
   "id": "bf7a5273",
   "metadata": {},
   "outputs": [
    {
     "name": "stdout",
     "output_type": "stream",
     "text": [
      "True\n"
     ]
    }
   ],
   "source": [
    "s=\"python java c cpp react\"\n",
    "w=\"cpp\"\n",
    "if w in s:\n",
    "    print(\"True\")\n",
    "else:\n",
    "    print(\"False\")"
   ]
  },
  {
   "cell_type": "code",
   "execution_count": 19,
   "id": "329ef314",
   "metadata": {},
   "outputs": [],
   "source": [
    "#10. Replace a word in a string with another word."
   ]
  },
  {
   "cell_type": "code",
   "execution_count": 20,
   "id": "9d0e619b",
   "metadata": {},
   "outputs": [],
   "source": [
    "s=\"python java c cpp react\"\n"
   ]
  },
  {
   "cell_type": "code",
   "execution_count": 21,
   "id": "c831a160",
   "metadata": {},
   "outputs": [
    {
     "name": "stdout",
     "output_type": "stream",
     "text": [
      "4\n"
     ]
    }
   ],
   "source": [
    "#11. Count the occurrences of a word in a string.\n",
    "#Method-1\n",
    "\n",
    "def wordCount(sentence,word):\n",
    "    count=0\n",
    "    words=sentence.split()\n",
    "    for w in words:\n",
    "        if w==word:\n",
    "            count+=1\n",
    "    return count\n",
    "sentence=\"java pyhton cpp sql dbms java python cpp cpp cpp\"\n",
    "word=\"cpp\"\n",
    "result=wordCount(sentence,word)\n",
    "print(result)"
   ]
  },
  {
   "cell_type": "code",
   "execution_count": 22,
   "id": "9bda2ced",
   "metadata": {},
   "outputs": [
    {
     "name": "stdout",
     "output_type": "stream",
     "text": [
      "4\n"
     ]
    }
   ],
   "source": [
    "#Method-2\n",
    "#using count() function\n",
    "def wordCount(sentence,word):\n",
    "    return sentence.count(word)\n",
    "\n",
    "sentence=\"java pyhton cpp sql dbms java python cpp cpp cpp\"\n",
    "word=\"cpp\"\n",
    "result=wordCount(sentence,word)\n",
    "print(result)"
   ]
  },
  {
   "cell_type": "code",
   "execution_count": 23,
   "id": "655832b5",
   "metadata": {},
   "outputs": [
    {
     "name": "stdout",
     "output_type": "stream",
     "text": [
      "12\n",
      "Index of word: 12\n"
     ]
    }
   ],
   "source": [
    "#12. Find the first occurrence of a word in a string.\n",
    "\n",
    "def firstOccurrence(sentence,word):\n",
    "    return sentence.find(word)\n",
    "\n",
    "sentence=\"java pyhton cpp sql dbms java python cpp cpp cpp\"\n",
    "word=\"cpp\"\n",
    "result=firstOccurrence(sentence,word)\n",
    "print(result)\n",
    "\n",
    "if result!=-1:\n",
    "    print(\"Index of word:\",result)\n",
    "else:\n",
    "    print(\"Doesnt find word\")"
   ]
  },
  {
   "cell_type": "code",
   "execution_count": 24,
   "id": "97271e51",
   "metadata": {},
   "outputs": [
    {
     "name": "stdout",
     "output_type": "stream",
     "text": [
      "45\n",
      "Index of word: 45\n"
     ]
    }
   ],
   "source": [
    "#13. Find the last occurrence of a word in a string.\n",
    "\n",
    "def firstOccurrence(sentence,word):\n",
    "    return sentence.rfind(word)\n",
    "\n",
    "sentence=\"java pyhton cpp sql dbms java python cpp cpp cpp\"\n",
    "word=\"cpp\"\n",
    "result=firstOccurrence(sentence,word)\n",
    "print(result)\n",
    "\n",
    "if result!=-1:\n",
    "    print(\"Index of word:\",result)\n",
    "else:\n",
    "    print(\"Doesnt find word\")"
   ]
  },
  {
   "cell_type": "code",
   "execution_count": 25,
   "id": "d6ef949f",
   "metadata": {},
   "outputs": [
    {
     "name": "stdout",
     "output_type": "stream",
     "text": [
      "['Hello', 'this', 'is', 'string']\n"
     ]
    }
   ],
   "source": [
    "#14. Split a string into a list of words.\n",
    "def splitString(str):\n",
    "    return str.split()\n",
    "\n",
    "str=\"Hello this is string\"\n",
    "result=splitString(str)\n",
    "print(result)"
   ]
  },
  {
   "cell_type": "code",
   "execution_count": 26,
   "id": "26a798a7",
   "metadata": {},
   "outputs": [
    {
     "name": "stdout",
     "output_type": "stream",
     "text": [
      "This is java program\n"
     ]
    }
   ],
   "source": [
    "#15. Join a list of words into a string.\n",
    "lst=['This','is','java','program']\n",
    "str=' '.join(lst)\n",
    "print(str)"
   ]
  },
  {
   "cell_type": "code",
   "execution_count": 27,
   "id": "bf6d3174",
   "metadata": {},
   "outputs": [
    {
     "data": {
      "text/plain": [
       "'\\n16. Convert a string where words are separated by spaces to one where words\\nare separated by underscores.\\n\\n'"
      ]
     },
     "execution_count": 27,
     "metadata": {},
     "output_type": "execute_result"
    }
   ],
   "source": [
    "\"\"\"\n",
    "16. Convert a string where words are separated by spaces to one where words\n",
    "are separated by underscores.\n",
    "\n",
    "\"\"\""
   ]
  },
  {
   "cell_type": "code",
   "execution_count": 28,
   "id": "8afa615a",
   "metadata": {},
   "outputs": [
    {
     "name": "stdout",
     "output_type": "stream",
     "text": [
      "Convert_a_string_where_words_are_separated_by_spaces\n"
     ]
    }
   ],
   "source": [
    "str=\"Convert a string where words are separated by spaces\"\n",
    "result=str.replace(\" \",\"_\")\n",
    "print(result)"
   ]
  },
  {
   "cell_type": "code",
   "execution_count": 29,
   "id": "0f776339",
   "metadata": {},
   "outputs": [
    {
     "name": "stdout",
     "output_type": "stream",
     "text": [
      "True\n"
     ]
    }
   ],
   "source": [
    "#17. Check if a string starts with a specific word or phrase.\n",
    "\n",
    "def startWithStr(str,word):\n",
    "    return str.startswith(word)\n",
    "\n",
    "str=\"hello this is python\"\n",
    "word=\"hello\"\n",
    "\n",
    "result = startWithStr(str,word)\n",
    "print(result)"
   ]
  },
  {
   "cell_type": "code",
   "execution_count": 30,
   "id": "480f5702",
   "metadata": {},
   "outputs": [
    {
     "name": "stdout",
     "output_type": "stream",
     "text": [
      "True\n"
     ]
    }
   ],
   "source": [
    "#18. Check if a string ends with a specific word or phrase.\n",
    "\n",
    "def endsWithStr(str,word):\n",
    "    return str.endswith(word)\n",
    "\n",
    "str=\"hello this is python\"\n",
    "word=\"python\"\n",
    "\n",
    "result = endsWithStr(str,word)\n",
    "print(result)"
   ]
  },
  {
   "cell_type": "code",
   "execution_count": 32,
   "id": "f290a0fb",
   "metadata": {},
   "outputs": [
    {
     "name": "stdout",
     "output_type": "stream",
     "text": [
      "Hello World\n"
     ]
    }
   ],
   "source": [
    "#19. Convert a string to title case (e.g., \"hello world\" to \"Hello World\").\n",
    "\n",
    "str=\"hello world\"\n",
    "result=str.title()\n",
    "print(result)"
   ]
  },
  {
   "cell_type": "code",
   "execution_count": 33,
   "id": "18244fd1",
   "metadata": {},
   "outputs": [
    {
     "name": "stdout",
     "output_type": "stream",
     "text": [
      "sentence\n"
     ]
    }
   ],
   "source": [
    "#20. Find the longest word in a string.\n",
    "def longestWord(str):\n",
    "    words=str.split()\n",
    "    longest=\"\"\n",
    "    for w in words:\n",
    "        if len(w)>len(longest):\n",
    "            longest=w\n",
    "    return longest\n",
    "str=\"This is the langest word in a sentence\"\n",
    "result=longestWord(str)\n",
    "print(result)"
   ]
  },
  {
   "cell_type": "code",
   "execution_count": 37,
   "id": "16668e0a",
   "metadata": {},
   "outputs": [
    {
     "name": "stdout",
     "output_type": "stream",
     "text": [
      "a\n"
     ]
    }
   ],
   "source": [
    "#21. Find the shortest word in a string\n",
    "\n",
    "def shortestWord(str):\n",
    "    words=str.split()\n",
    "    shortest=words[0]\n",
    "    for w in words:\n",
    "        if len(w)<len(shortest):\n",
    "            shortest=w\n",
    "    return shortest\n",
    "\n",
    "str=\"This is the langest word in a sentence\"\n",
    "result = shortestWord(str)\n",
    "print(result)"
   ]
  },
  {
   "cell_type": "code",
   "execution_count": 39,
   "id": "37224dba",
   "metadata": {},
   "outputs": [
    {
     "name": "stdout",
     "output_type": "stream",
     "text": [
      "python is this\n"
     ]
    }
   ],
   "source": [
    "#22. Reverse the order of words in a string.\n",
    "def reverseOrder(str):\n",
    "    words=str.split()\n",
    "    rev_words=reversed(words)\n",
    "    final=' '.join(rev_words)\n",
    "    return final\n",
    "\n",
    "str=\"this is python\"\n",
    "result=reverseOrder(str)\n",
    "print(result)"
   ]
  },
  {
   "cell_type": "code",
   "execution_count": 42,
   "id": "eeaddcad",
   "metadata": {},
   "outputs": [
    {
     "name": "stdout",
     "output_type": "stream",
     "text": [
      "True\n",
      "False\n"
     ]
    }
   ],
   "source": [
    "#23. Check if a string is alphanumeric.\n",
    "def alphanumeric(str):\n",
    "    return str.isalnum()\n",
    "\n",
    "str1=\"abc123\"\n",
    "str2=\"abc 123\"\n",
    "print(alphanumeric(str1)) \n",
    "print(alphanumeric(str2)) #containing space,not a alphanumeric"
   ]
  },
  {
   "cell_type": "code",
   "execution_count": 48,
   "id": "c0ace430",
   "metadata": {},
   "outputs": [
    {
     "name": "stdout",
     "output_type": "stream",
     "text": [
      "['12', '34']\n"
     ]
    }
   ],
   "source": [
    "#24. Extract all digits from a string.\n",
    "#import regular expression\n",
    "import re\n",
    "\n",
    "def extract_digit(str):\n",
    "     return re.findall(r'\\d+', str)\n",
    "str1=\"abc 12 xyz 34\"\n",
    "result=extract_digit(str1)\n",
    "print(result)"
   ]
  },
  {
   "cell_type": "code",
   "execution_count": null,
   "id": "a4cab9dd",
   "metadata": {},
   "outputs": [],
   "source": []
  },
  {
   "cell_type": "code",
   "execution_count": 49,
   "id": "b21d01db",
   "metadata": {},
   "outputs": [
    {
     "name": "stdout",
     "output_type": "stream",
     "text": [
      "['abc', 'xyz']\n"
     ]
    }
   ],
   "source": [
    "#25. Extract all alphabets from a string.\n",
    "#import regular expression\n",
    "import re\n",
    "\n",
    "def extract_alpha(str):\n",
    "     return re.findall(r'[a-zA-Z]+', str)\n",
    "str1=\"abc 12 xyz 34\"\n",
    "result=extract_alpha(str1)\n",
    "print(result)\n"
   ]
  },
  {
   "cell_type": "code",
   "execution_count": 2,
   "id": "59f2bfd4",
   "metadata": {},
   "outputs": [
    {
     "name": "stdout",
     "output_type": "stream",
     "text": [
      "2\n"
     ]
    }
   ],
   "source": [
    "#26. Count the number of uppercase letters in a string.\n",
    "\n",
    "def countUpperCase(str):\n",
    "    count=0\n",
    "    for c in str:\n",
    "        if c.isupper() :\n",
    "            count+=1\n",
    "    return count\n",
    "\n",
    "str=\"Hello, World\"\n",
    "result=countUpperCase(str)\n",
    "print(result)"
   ]
  },
  {
   "cell_type": "code",
   "execution_count": 4,
   "id": "d3c6e916",
   "metadata": {},
   "outputs": [
    {
     "name": "stdout",
     "output_type": "stream",
     "text": [
      "8\n"
     ]
    }
   ],
   "source": [
    "#27. Count the number of lowercase letters in a string.\n",
    "def countLowerCase(str):\n",
    "    count=0\n",
    "    for c in str:\n",
    "        if c.islower() :\n",
    "            count+=1\n",
    "    return count\n",
    "\n",
    "str=\"Hello, World\"\n",
    "result=countLowerCase(str)\n",
    "print(result)"
   ]
  },
  {
   "cell_type": "code",
   "execution_count": 5,
   "id": "68733c93",
   "metadata": {},
   "outputs": [
    {
     "name": "stdout",
     "output_type": "stream",
     "text": [
      "hELLO, wORLD\n"
     ]
    }
   ],
   "source": [
    "#28. Swap the case of each character in a string.\n",
    "\n",
    "def swapCharCase(str):\n",
    "    return str.swapcase()\n",
    "\n",
    "str=\"Hello, World\"\n",
    "result=swapCharCase(str)\n",
    "print(result)"
   ]
  },
  {
   "cell_type": "code",
   "execution_count": 11,
   "id": "3ba05735",
   "metadata": {},
   "outputs": [
    {
     "name": "stdout",
     "output_type": "stream",
     "text": [
      "Hello ,Goodbye \n"
     ]
    }
   ],
   "source": [
    "#29. Remove a specific word from a string.\n",
    "\n",
    "def removeWord(str,word):\n",
    "    return str.replace(word,\"\")\n",
    "\n",
    "\n",
    "str=\"Hello world,Goodbye world\"\n",
    "word=\"world\"\n",
    "result=removeWord(str,word)\n",
    "print(result)         "
   ]
  },
  {
   "cell_type": "code",
   "execution_count": 13,
   "id": "82c0216c",
   "metadata": {},
   "outputs": [
    {
     "name": "stdout",
     "output_type": "stream",
     "text": [
      "Email is Valid\n"
     ]
    }
   ],
   "source": [
    "#30. Check if a string is a valid email address.\n",
    "\n",
    "import re\n",
    "def validEmail(str):\n",
    "    pattern = r'^[a-zA-Z0-9._%+-]+@[a-zA-Z0-9.-]+\\.[a-zA-Z]{2,}$'\n",
    "    return bool(re.match(pattern,str))\n",
    "\n",
    "email=\"example@gmail.com\"\n",
    "if validEmail(email):\n",
    "    print(\"Email is Valid\")\n",
    "else:\n",
    "     print(\"Email is Not Valid\")\n"
   ]
  },
  {
   "cell_type": "code",
   "execution_count": 19,
   "id": "9d3f8afa",
   "metadata": {},
   "outputs": [
    {
     "name": "stdout",
     "output_type": "stream",
     "text": [
      "example\n"
     ]
    }
   ],
   "source": [
    "# 31. Extract the username from an email address string.\n",
    "\n",
    "def extractUsername(str):\n",
    "    username=str.split('@')[0]\n",
    "    return username\n",
    "\n",
    "    \n",
    "email=\"example@gmail.com\"\n",
    "result=extractUsername(email)\n",
    "print(result)"
   ]
  },
  {
   "cell_type": "code",
   "execution_count": 22,
   "id": "ee1a7deb",
   "metadata": {},
   "outputs": [
    {
     "name": "stdout",
     "output_type": "stream",
     "text": [
      "gmail.com\n"
     ]
    }
   ],
   "source": [
    "#32. Extract the domain name from an email address string.\n",
    "def extractDomainname(str):\n",
    "    domainname=str.split('@')[1]\n",
    "    return domainname\n",
    "\n",
    "    \n",
    "email=\"example@gmail.com\"\n",
    "result=extractDomainname(email)\n",
    "print(result)"
   ]
  },
  {
   "cell_type": "code",
   "execution_count": 23,
   "id": "4645e480",
   "metadata": {},
   "outputs": [
    {
     "name": "stdout",
     "output_type": "stream",
     "text": [
      " hello this is python \n"
     ]
    }
   ],
   "source": [
    "#33. Replace multiple spaces in a string with a single space.\n",
    "\n",
    "import re\n",
    "def replaceSpace(str):\n",
    "    return re.sub(r'\\s+',' ',str)\n",
    "\n",
    "str=\" hello    this   is python    \"\n",
    "result=replaceSpace(str)\n",
    "print(result)\n",
    "    "
   ]
  },
  {
   "cell_type": "code",
   "execution_count": 24,
   "id": "65bea16a",
   "metadata": {},
   "outputs": [
    {
     "name": "stdout",
     "output_type": "stream",
     "text": [
      "Valid URL\n"
     ]
    }
   ],
   "source": [
    "#34. Check if a string is a valid URL.\n",
    "from urllib.parse import urlparse\n",
    "\n",
    "def isValidURL(str):\n",
    "    url=urlparse(str)\n",
    "    return all([url.scheme,url.netloc])\n",
    "str=\"https://www.example.com\"\n",
    "if isValidURL(str):\n",
    "    print(\"Valid URL\")\n",
    "else:\n",
    "    print(\"Invalid URL\")"
   ]
  },
  {
   "cell_type": "code",
   "execution_count": 26,
   "id": "a5c0a1ec",
   "metadata": {},
   "outputs": [
    {
     "name": "stdout",
     "output_type": "stream",
     "text": [
      "https\n"
     ]
    }
   ],
   "source": [
    "#35. Extract the protocol (http or https) from a URL string.\n",
    "\n",
    "def extractProtocol(str):\n",
    "    url=urlparse(str)\n",
    "    return url.scheme\n",
    "str=\"https://www.example.com\"\n",
    "result=extractProtocol(str)\n",
    "print(result)"
   ]
  },
  {
   "cell_type": "code",
   "execution_count": 29,
   "id": "75ab1d6d",
   "metadata": {},
   "outputs": [
    {
     "name": "stdout",
     "output_type": "stream",
     "text": [
      "{'h': 1, 'e': 1, 'l': 3, 'o': 2, ' ': 1, 'w': 1, 'r': 1, 'd': 1}\n"
     ]
    }
   ],
   "source": [
    "#36. Find the frequency of each character in a string.\n",
    "def charFrequency(str):\n",
    "    frequency={} # empty dictionary to store \n",
    "    for c in str:\n",
    "        frequency[c]=frequency.get(c,0)+1\n",
    "    return frequency\n",
    "\n",
    "str=\"hello world\"\n",
    "result=charFrequency(str)\n",
    "print(result)"
   ]
  },
  {
   "cell_type": "code",
   "execution_count": 4,
   "id": "14ce3174",
   "metadata": {},
   "outputs": [
    {
     "name": "stdout",
     "output_type": "stream",
     "text": [
      "Input : Hello, world! This is a sample text with punctuation.\n",
      "Output : Hello world This is a sample text with punctuation\n"
     ]
    }
   ],
   "source": [
    "#37. Remove all punctuation from a string.\n",
    "import re\n",
    "def removePantuation(str):\n",
    "    pantual_pattern=r'[^\\w\\s]'\n",
    "    return re.sub( pantual_pattern,'',str)\n",
    "\n",
    "str=\"Hello, world! This is a sample text with punctuation.\"\n",
    "print(\"Input :\",str)\n",
    "result=removePantuation(str)\n",
    "print(\"Output :\",result)"
   ]
  },
  {
   "cell_type": "code",
   "execution_count": 5,
   "id": "232e9860",
   "metadata": {},
   "outputs": [
    {
     "name": "stdout",
     "output_type": "stream",
     "text": [
      "True\n"
     ]
    }
   ],
   "source": [
    "#38. Check if a string contains only digits.\n",
    "def isDigit(str):\n",
    "    return str.isdigit()\n",
    "\n",
    "str=\"12344566\"\n",
    "print(isDigit(str))"
   ]
  },
  {
   "cell_type": "code",
   "execution_count": 8,
   "id": "44dc969f",
   "metadata": {},
   "outputs": [
    {
     "name": "stdout",
     "output_type": "stream",
     "text": [
      "True\n"
     ]
    }
   ],
   "source": [
    "#39. Check if a string contains only alphabets.\n",
    "\n",
    "def isAlphabet(str):\n",
    "    return str.isalpha()\n",
    "\n",
    "str=\"alphabet\"\n",
    "print(isAlphabet(str))"
   ]
  },
  {
   "cell_type": "code",
   "execution_count": 9,
   "id": "78a89813",
   "metadata": {},
   "outputs": [
    {
     "name": "stdout",
     "output_type": "stream",
     "text": [
      "['H', 'e', 'l', 'l', 'o', ',', ' ', 'w', 'o', 'r', 'l', 'd']\n"
     ]
    }
   ],
   "source": [
    "#40. Convert a string to a list of characters\n",
    "\n",
    "str=\"Hello, world\"\n",
    "l=list(str)\n",
    "print(l)"
   ]
  },
  {
   "cell_type": "code",
   "execution_count": 12,
   "id": "37fbc733",
   "metadata": {},
   "outputs": [
    {
     "name": "stdout",
     "output_type": "stream",
     "text": [
      "True\n"
     ]
    }
   ],
   "source": [
    "#41. Check if two strings are anagrams.\n",
    "\n",
    "def isAnagram(str1,str2):\n",
    "    str1=str1.replace(\" \",\"\").lower()\n",
    "    str2=str2.replace(\" \",\"\").lower()\n",
    "    return sorted(str1)==sorted(str2)\n",
    "\n",
    "str1=\"listen\"\n",
    "str2=\"silent\"\n",
    "\n",
    "print(isAnagram(str1,str2))"
   ]
  },
  {
   "cell_type": "code",
   "execution_count": null,
   "id": "4c38fdaf",
   "metadata": {},
   "outputs": [],
   "source": []
  },
  {
   "cell_type": "markdown",
   "id": "1e83190a",
   "metadata": {},
   "source": [
    "42. Encode a string using a Caesar cipher.\n",
    "\n",
    "caesar cipher: encryption techniques. \n",
    "It is a substitution cipher where each letter in the plaintext is shifted a certain number of places down or up the alphabet. "
   ]
  },
  {
   "cell_type": "code",
   "execution_count": 5,
   "id": "dfd9897b",
   "metadata": {},
   "outputs": [
    {
     "name": "stdout",
     "output_type": "stream",
     "text": [
      "Khoor Zruog\n"
     ]
    }
   ],
   "source": [
    "def caesarCipher(txt,shift):\n",
    "    encrypted_shift=\"\"\n",
    "    for c in txt:\n",
    "        if c.isalpha():\n",
    "            if c.islower():\n",
    "                 encrypted_shift+=chr((ord(c) - ord('a') + shift) % 26 + ord('a'))\n",
    "            elif c.isupper():\n",
    "                 encrypted_shift+=chr((ord(c)-ord('A')+shift)%26+ord('A'))\n",
    "        else:\n",
    "            encrypted_shift+=c\n",
    "    return encrypted_shift\n",
    "\n",
    "\n",
    "text=\"Hello World\"\n",
    "shift=3\n",
    "encrypted_shift=caesarCipher(text,shift)\n",
    "print(encrypted_shift)    \n",
    "                "
   ]
  },
  {
   "cell_type": "code",
   "execution_count": 8,
   "id": "8f0b9802",
   "metadata": {},
   "outputs": [
    {
     "name": "stdout",
     "output_type": "stream",
     "text": [
      "Hello World\n"
     ]
    }
   ],
   "source": [
    "#43. Decode a Caesar cipher encoded string.\n",
    "def caesarCipherDecrypt(txt,shift):\n",
    "    encrypted_shift=\"\"\n",
    "    for c in txt:\n",
    "        if c.isalpha():\n",
    "            if c.islower():\n",
    "                 encrypted_shift+=chr((ord(c) - ord('a') -shift) % 26 + ord('a'))\n",
    "            elif c.isupper():\n",
    "                 encrypted_shift+=chr((ord(c)-ord('A')-shift)%26+ord('A'))\n",
    "        else:\n",
    "            encrypted_shift+=c\n",
    "    return encrypted_shift\n",
    "\n",
    "\n",
    "text=\"Khoor Zruog\"\n",
    "shift=3\n",
    "encrypted_shift=caesarCipherDecrypt(text,shift)\n",
    "print(encrypted_shift)    \n",
    "                "
   ]
  },
  {
   "cell_type": "code",
   "execution_count": 11,
   "id": "9fa61738",
   "metadata": {},
   "outputs": [
    {
     "name": "stdout",
     "output_type": "stream",
     "text": [
      "string\n"
     ]
    }
   ],
   "source": [
    "#44. Find the most frequent word in a string.\n",
    "from collections import defaultdict\n",
    "\n",
    "def wordFrequency(str):\n",
    "    word_count= defaultdict(int)\n",
    "    words=str.split()\n",
    "    for c in words:\n",
    "        word_count[c]+=1\n",
    "    res=max(word_count,key=word_count.get)\n",
    "    return res\n",
    "\n",
    "str=\"This is a string with some words. This string has some repeated words, like string and words.\"\n",
    "ans=wordFrequency(str)\n",
    "print(ans)"
   ]
  },
  {
   "cell_type": "code",
   "execution_count": 12,
   "id": "068d1e27",
   "metadata": {},
   "outputs": [
    {
     "name": "stdout",
     "output_type": "stream",
     "text": [
      "{'words.', 'and', 'a', 'has', 'This', 'string', 'words,', 'is', 'like', 'some', 'repeated', 'with'}\n"
     ]
    }
   ],
   "source": [
    "#45. Find all unique words in a string.\n",
    "def uniqueFind(str):\n",
    "    words=str.split()\n",
    "    unique_words=set(words)\n",
    "    return unique_words\n",
    "str=\"This is a string with some words. This string has some repeated words, like string and words.\"\n",
    "res=uniqueFind(str)\n",
    "print(res)"
   ]
  },
  {
   "cell_type": "code",
   "execution_count": 18,
   "id": "e1643524",
   "metadata": {},
   "outputs": [
    {
     "name": "stdout",
     "output_type": "stream",
     "text": [
      "Number of syllables: 3\n"
     ]
    }
   ],
   "source": [
    "#46. Count the number of syllables in a string\n",
    "def count_syllables(word):\n",
    "    vowels = \"aeiouy\"\n",
    "    num_syllables = 0\n",
    "    prev_char_was_vowel = False\n",
    "    \n",
    "    for char in word.lower():\n",
    "        if char in vowels:\n",
    "            if not prev_char_was_vowel:\n",
    "                num_syllables += 1\n",
    "            prev_char_was_vowel = True\n",
    "        else:\n",
    "            prev_char_was_vowel = False\n",
    "    \n",
    "    if word.endswith(\"e\") and not word.endswith(\"le\"):\n",
    "        num_syllables -= 1\n",
    "    num_syllables = max(1, num_syllables)\n",
    "    return num_syllables\n",
    "\n",
    "word = \"syllable\"\n",
    "num_syllables = count_syllables(word)\n",
    "print(\"Number of syllables:\", num_syllables)"
   ]
  },
  {
   "cell_type": "code",
   "execution_count": 17,
   "id": "daf9ecc4",
   "metadata": {},
   "outputs": [
    {
     "name": "stdout",
     "output_type": "stream",
     "text": [
      "True\n"
     ]
    }
   ],
   "source": [
    "#47. Check if a string contains any special characters.\n",
    "\n",
    "def specialChar(str):\n",
    "    for c in str:\n",
    "        if not c.isalnum():\n",
    "            return True\n",
    "    return False\n",
    "\n",
    "str=\"Hello World\"\n",
    "res=specialChar(str)\n",
    "print(res)\n",
    "        "
   ]
  },
  {
   "cell_type": "code",
   "execution_count": 19,
   "id": "3b327b0b",
   "metadata": {},
   "outputs": [
    {
     "name": "stdout",
     "output_type": "stream",
     "text": [
      "Updated text: This is a sample to demonstrate removing the nth word.\n"
     ]
    }
   ],
   "source": [
    "#48. Remove the nth word from a string.\n",
    "def remove_nth_word(text, n):\n",
    "    words = text.split()\n",
    "    if n >= len(words) or n < 0:\n",
    "        return \"Invalid index\"\n",
    "    del words[n]\n",
    "    updated_text = \" \".join(words)\n",
    "    return updated_text\n",
    "\n",
    "text = \"This is a sample sentence to demonstrate removing the nth word.\"\n",
    "n = 4\n",
    "updated_text = remove_nth_word(text, n)\n",
    "print(\"Updated text:\", updated_text)"
   ]
  },
  {
   "cell_type": "code",
   "execution_count": 20,
   "id": "e7098d0d",
   "metadata": {},
   "outputs": [
    {
     "name": "stdout",
     "output_type": "stream",
     "text": [
      "Updated text: This is a sample new sentence to demonstrate inserting a word.\n"
     ]
    }
   ],
   "source": [
    "#49. Insert a word at the nth position in a string.\n",
    "def insert_word_at_nth_position(text, word, n):\n",
    "    words = text.split()\n",
    "    if n < 0 or n > len(words):\n",
    "        return \"Invalid position\"\n",
    "    words.insert(n, word)\n",
    "    updated_text = \" \".join(words)\n",
    "    return updated_text\n",
    "\n",
    "text = \"This is a sample sentence to demonstrate inserting a word.\"\n",
    "word_to_insert = \"new\"\n",
    "n = 4\n",
    "updated_text = insert_word_at_nth_position(text, word_to_insert, n)\n",
    "print(\"Updated text:\", updated_text)\n"
   ]
  },
  {
   "cell_type": "code",
   "execution_count": 21,
   "id": "6a28d3fc",
   "metadata": {},
   "outputs": [
    {
     "name": "stdout",
     "output_type": "stream",
     "text": [
      "List of lists: [['1', 'John', 'Doe'], ['2', 'Jane', 'Smith'], ['3', 'Bob', 'Johnson']]\n"
     ]
    }
   ],
   "source": [
    "#50. Convert a CSV string to a list of lists.\n",
    "\n",
    "\n",
    "def csv_string_to_list_of_lists(csv_string):\n",
    "    csv_list = []\n",
    "    \n",
    "    # Split the CSV string into lines\n",
    "    lines = csv_string.split(\"\\n\")\n",
    "    for line in lines:\n",
    "        fields = line.split(\",\")\n",
    "        csv_list.append(fields)\n",
    "    return csv_list\n",
    "\n",
    "csv_string = \"1,John,Doe\\n2,Jane,Smith\\n3,Bob,Johnson\"\n",
    "csv_list = csv_string_to_list_of_lists(csv_string)\n",
    "print(\"List of lists:\", csv_list)"
   ]
  },
  {
   "cell_type": "code",
   "execution_count": null,
   "id": "34e7aa5c",
   "metadata": {},
   "outputs": [],
   "source": []
  }
 ],
 "metadata": {
  "kernelspec": {
   "display_name": "Python 3 (ipykernel)",
   "language": "python",
   "name": "python3"
  },
  "language_info": {
   "codemirror_mode": {
    "name": "ipython",
    "version": 3
   },
   "file_extension": ".py",
   "mimetype": "text/x-python",
   "name": "python",
   "nbconvert_exporter": "python",
   "pygments_lexer": "ipython3",
   "version": "3.10.9"
  }
 },
 "nbformat": 4,
 "nbformat_minor": 5
}
