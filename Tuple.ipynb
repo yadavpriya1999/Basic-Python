{
 "cells": [
  {
   "cell_type": "code",
   "execution_count": 1,
   "id": "2244c08f",
   "metadata": {},
   "outputs": [
    {
     "name": "stdout",
     "output_type": "stream",
     "text": [
      "(1, 2, 3, 4, 5)\n"
     ]
    }
   ],
   "source": [
    "#1. Create a tuple with integers from 1 to 5\n",
    "tuple_integers = (1, 2, 3, 4, 5)\n",
    "print(tuple_integers)"
   ]
  },
  {
   "cell_type": "code",
   "execution_count": 2,
   "id": "733e6a90",
   "metadata": {},
   "outputs": [
    {
     "name": "stdout",
     "output_type": "stream",
     "text": [
      "3\n"
     ]
    }
   ],
   "source": [
    "#2. Access the third element of a tuple\n",
    "tuple_integers = (1, 2, 3, 4, 5)\n",
    "third_element = tuple_integers[2]\n",
    "print(third_element)"
   ]
  },
  {
   "cell_type": "code",
   "execution_count": 3,
   "id": "38dc8174",
   "metadata": {},
   "outputs": [
    {
     "name": "stdout",
     "output_type": "stream",
     "text": [
      "Length of the tuple: 5\n"
     ]
    }
   ],
   "source": [
    "#3. Find the length of a tuple without using the `len()` function.\n",
    "def tuple_length(tup):\n",
    "    count = 0\n",
    "    for _ in tup:\n",
    "        count += 1\n",
    "    return count\n",
    "\n",
    "tuple_example = (1, 2, 3, 4, 5)\n",
    "length = tuple_length(tuple_example)\n",
    "print(\"Length of the tuple:\", length)"
   ]
  },
  {
   "cell_type": "code",
   "execution_count": 4,
   "id": "2103d471",
   "metadata": {},
   "outputs": [
    {
     "name": "stdout",
     "output_type": "stream",
     "text": [
      "Number of occurrences of 2 in the tuple: 3\n"
     ]
    }
   ],
   "source": [
    "#4. Count the occurrences of an element in a tuple.\n",
    "def count_occurrences(tup, element):\n",
    "    count = 0\n",
    "    for item in tup:\n",
    "        if item == element:\n",
    "            count += 1\n",
    "    return count\n",
    "\n",
    "tuple_example = (1, 2, 2, 3, 4, 2, 5)\n",
    "element_to_count = 2\n",
    "occurrences = count_occurrences(tuple_example, element_to_count)\n",
    "print(f\"Number of occurrences of {element_to_count} in the tuple:\", occurrences)"
   ]
  },
  {
   "cell_type": "code",
   "execution_count": 5,
   "id": "d1a400d8",
   "metadata": {},
   "outputs": [
    {
     "name": "stdout",
     "output_type": "stream",
     "text": [
      "Index of the first occurrence of 2: 1\n"
     ]
    }
   ],
   "source": [
    "#5. Find the index of the first occurrence of an element in a tuple.\n",
    "def find_first_occurrence_index(tup, element):\n",
    "    for index, item in enumerate(tup):\n",
    "        if item == element:\n",
    "            return index\n",
    "\n",
    "tuple_example = (1, 2, 3, 2, 4, 5, 2)\n",
    "element_to_find = 2\n",
    "first_occurrence_index = find_first_occurrence_index(tuple_example, element_to_find)\n",
    "print(f\"Index of the first occurrence of {element_to_find}:\", first_occurrence_index)"
   ]
  },
  {
   "cell_type": "code",
   "execution_count": 6,
   "id": "05e112f2",
   "metadata": {},
   "outputs": [
    {
     "name": "stdout",
     "output_type": "stream",
     "text": [
      "The element 3 exists in the tuple.\n"
     ]
    }
   ],
   "source": [
    "#6. Check if an element exists in a tuple.\n",
    "def element_exists_in_tuple(tup, element):\n",
    "    for item in tup:\n",
    "        if item == element:\n",
    "            return True\n",
    "    return False\n",
    "\n",
    "tuple_example = (1, 2, 3, 4, 5)\n",
    "element_to_check = 3\n",
    "exists = element_exists_in_tuple(tuple_example, element_to_check)\n",
    "if exists:\n",
    "    print(f\"The element {element_to_check} exists in the tuple.\")\n",
    "else:\n",
    "    print(f\"The element {element_to_check} does not exist in the tuple.\")"
   ]
  },
  {
   "cell_type": "code",
   "execution_count": 7,
   "id": "9cf7d1b6",
   "metadata": {},
   "outputs": [
    {
     "name": "stdout",
     "output_type": "stream",
     "text": [
      "Converted list: [1, 2, 3, 4, 5]\n"
     ]
    }
   ],
   "source": [
    "#7. Convert a tuple to a list.\n",
    "\n",
    "def tuple_to_list(tup):\n",
    "    result_list = []\n",
    "    for item in tup:\n",
    "        result_list.append(item)\n",
    "    return result_list\n",
    "\n",
    "# Example usage:\n",
    "tuple_example = (1, 2, 3, 4, 5)\n",
    "converted_list = tuple_to_list(tuple_example)\n",
    "print(\"Converted list:\", converted_list)"
   ]
  },
  {
   "cell_type": "code",
   "execution_count": 8,
   "id": "88ce7616",
   "metadata": {},
   "outputs": [
    {
     "name": "stdout",
     "output_type": "stream",
     "text": [
      "Converted tuple: (1, 2, 3, 4, 5)\n"
     ]
    }
   ],
   "source": [
    "#8. Convert a list to a tuple.\n",
    "def list_to_tuple(lst):\n",
    "    result_tuple = ()\n",
    "    for item in lst:\n",
    "        result_tuple += (item,)  # Create a new tuple with each element added\n",
    "    return result_tuple\n",
    "\n",
    "list_example = [1, 2, 3, 4, 5]\n",
    "converted_tuple = list_to_tuple(list_example)\n",
    "print(\"Converted tuple:\", converted_tuple)"
   ]
  },
  {
   "cell_type": "code",
   "execution_count": 9,
   "id": "7b5d20ba",
   "metadata": {},
   "outputs": [
    {
     "name": "stdout",
     "output_type": "stream",
     "text": [
      "a: 1\n",
      "b: 2\n",
      "c: 3\n"
     ]
    }
   ],
   "source": [
    "#9. Unpack the elements of a tuple into variables.\n",
    "\n",
    "tuple_example = (1, 2, 3)\n",
    "\n",
    "# Unpacking into variables\n",
    "a, b, c = tuple_example\n",
    "print(\"a:\", a)\n",
    "print(\"b:\", b)\n",
    "print(\"c:\", c)\n"
   ]
  },
  {
   "cell_type": "code",
   "execution_count": 10,
   "id": "e93ca77e",
   "metadata": {},
   "outputs": [
    {
     "name": "stdout",
     "output_type": "stream",
     "text": [
      "(2, 4, 6, 8, 10)\n"
     ]
    }
   ],
   "source": [
    "#10. Create a tuple of even numbers from 1 to 10.\n",
    "even_numbers = tuple(num for num in range(2, 11, 2))\n",
    "print(even_numbers) "
   ]
  },
  {
   "cell_type": "code",
   "execution_count": 11,
   "id": "fa8ceca3",
   "metadata": {},
   "outputs": [
    {
     "name": "stdout",
     "output_type": "stream",
     "text": [
      "(1, 3, 5, 7, 9)\n"
     ]
    }
   ],
   "source": [
    "#11. Create a tuple of odd numbers from 1 to 10.\n",
    "odd_numbers = tuple(num for num in range(1, 11) if num % 2 != 0)\n",
    "print(odd_numbers)"
   ]
  },
  {
   "cell_type": "code",
   "execution_count": 12,
   "id": "56b0cf72",
   "metadata": {},
   "outputs": [
    {
     "name": "stdout",
     "output_type": "stream",
     "text": [
      "(1, 2, 3, 4, 5, 6, 7, 8, 9)\n"
     ]
    }
   ],
   "source": [
    "#12. Concatenate two tuples.\n",
    "tuple1 = (1, 2, 3)\n",
    "tuple2 = (4, 5, 6)\n",
    "tuple3 = (7, 8, 9)\n",
    "\n",
    "concatenated_tuple = tuple(tuple1 + tuple2 + tuple3)\n",
    "print(concatenated_tuple)"
   ]
  },
  {
   "cell_type": "code",
   "execution_count": 13,
   "id": "2d86c3c0",
   "metadata": {},
   "outputs": [
    {
     "name": "stdout",
     "output_type": "stream",
     "text": [
      "(1, 2, 3, 1, 2, 3, 1, 2, 3)\n"
     ]
    }
   ],
   "source": [
    "#13. Repeat a tuple three times.\n",
    "original_tuple = (1, 2, 3)\n",
    "\n",
    "repeated_tuple = original_tuple * 3\n",
    "print(repeated_tuple)"
   ]
  },
  {
   "cell_type": "code",
   "execution_count": 14,
   "id": "da99dfc9",
   "metadata": {},
   "outputs": [
    {
     "name": "stdout",
     "output_type": "stream",
     "text": [
      "The tuple is empty.\n"
     ]
    }
   ],
   "source": [
    "#14. Check if a tuple is empty.\n",
    "empty_tuple = ()\n",
    "\n",
    "if not empty_tuple:\n",
    "    print(\"The tuple is empty.\")\n",
    "else:\n",
    "    print(\"The tuple is not empty.\")"
   ]
  },
  {
   "cell_type": "code",
   "execution_count": 15,
   "id": "3d721114",
   "metadata": {},
   "outputs": [
    {
     "name": "stdout",
     "output_type": "stream",
     "text": [
      "((1, 2), (3, 4), (5, 6))\n"
     ]
    }
   ],
   "source": [
    "#15. Create a nested tuple.\n",
    "nested_tuple = ((1, 2), (3, 4), (5, 6))\n",
    "\n",
    "print(nested_tuple)"
   ]
  },
  {
   "cell_type": "code",
   "execution_count": 16,
   "id": "073e9a9e",
   "metadata": {},
   "outputs": [
    {
     "name": "stdout",
     "output_type": "stream",
     "text": [
      "1\n"
     ]
    }
   ],
   "source": [
    "# 16. Access the first element of a nested tuple\n",
    "nested_tuple = ((1, 2), (3, 4), (5, 6))\n",
    "\n",
    "first_ele=nested_tuple[0][0]\n",
    "print(first_ele)"
   ]
  },
  {
   "cell_type": "code",
   "execution_count": 17,
   "id": "8051cc3a",
   "metadata": {},
   "outputs": [
    {
     "name": "stdout",
     "output_type": "stream",
     "text": [
      "<class 'int'>\n"
     ]
    }
   ],
   "source": [
    "#17. Create a tuple with a single element\n",
    "single_element_tuple = (1)\n",
    "print(type(single_element_tuple))"
   ]
  },
  {
   "cell_type": "code",
   "execution_count": 18,
   "id": "23ab0dd9",
   "metadata": {},
   "outputs": [
    {
     "name": "stdout",
     "output_type": "stream",
     "text": [
      "(1,)\n",
      "(1,)\n",
      "<class 'tuple'>\n"
     ]
    }
   ],
   "source": [
    "# Method 1: Using a comma\n",
    "single_element_tuple = (1,)\n",
    "print(single_element_tuple)\n",
    "# Method 2: Using tuple constructor with single element\n",
    "single_element_tuple = tuple([1])\n",
    "\n",
    "print(single_element_tuple)\n",
    "print(type(single_element_tuple))"
   ]
  },
  {
   "cell_type": "code",
   "execution_count": 19,
   "id": "6f79219b",
   "metadata": {},
   "outputs": [
    {
     "name": "stdout",
     "output_type": "stream",
     "text": [
      "tuple1 and tuple2 are not equal\n",
      "tuple1 is less than tuple2\n",
      "tuple1 is not greater than tuple2\n"
     ]
    }
   ],
   "source": [
    "#18. Compare two tuples.\n",
    "tuple1 = (1, 2, 3)\n",
    "tuple2 = (1, 2, 4)\n",
    "\n",
    "# Compare if two tuples are equal\n",
    "if tuple1 == tuple2:\n",
    "    print(\"tuple1 and tuple2 are equal\")\n",
    "else:\n",
    "    print(\"tuple1 and tuple2 are not equal\")\n",
    "       \n",
    "if tuple1 < tuple2:\n",
    "    print(\"tuple1 is less than tuple2\")\n",
    "else:\n",
    "    print(\"tuple1 is not less than tuple2\")\n",
    "\n",
    "if tuple1 > tuple2:\n",
    "    print(\"tuple1 is greater than tuple2\")\n",
    "else:\n",
    "    print(\"tuple1 is not greater than tuple2\")"
   ]
  },
  {
   "cell_type": "code",
   "execution_count": 20,
   "id": "935ef4f7",
   "metadata": {},
   "outputs": [
    {
     "ename": "NameError",
     "evalue": "name 'my_tuple' is not defined",
     "output_type": "error",
     "traceback": [
      "\u001b[1;31m---------------------------------------------------------------------------\u001b[0m",
      "\u001b[1;31mNameError\u001b[0m                                 Traceback (most recent call last)",
      "Cell \u001b[1;32mIn[20], line 7\u001b[0m\n\u001b[0;32m      4\u001b[0m \u001b[38;5;66;03m# Deleting the entire tuple\u001b[39;00m\n\u001b[0;32m      5\u001b[0m \u001b[38;5;28;01mdel\u001b[39;00m my_tuple\n\u001b[1;32m----> 7\u001b[0m \u001b[38;5;28mprint\u001b[39m(\u001b[43mmy_tuple\u001b[49m)\n",
      "\u001b[1;31mNameError\u001b[0m: name 'my_tuple' is not defined"
     ]
    }
   ],
   "source": [
    "#19. Delete a tuple.\n",
    "my_tuple = (1, 2, 3, 4, 5)\n",
    "\n",
    "# Deleting the entire tuple\n",
    "del my_tuple\n",
    "\n",
    "print(my_tuple)"
   ]
  },
  {
   "cell_type": "code",
   "execution_count": 21,
   "id": "4ec33b06",
   "metadata": {},
   "outputs": [
    {
     "name": "stdout",
     "output_type": "stream",
     "text": [
      "(3, 4, 5)\n"
     ]
    }
   ],
   "source": [
    "#20. Slice a tuple.\n",
    "my_tuple = (1, 2, 3, 4, 5, 6, 7, 8, 9, 10)\n",
    "sliced_tuple = my_tuple[2:5] # Slicing from index 2 to 5\n",
    "print(sliced_tuple)"
   ]
  },
  {
   "cell_type": "code",
   "execution_count": 22,
   "id": "91a0f893",
   "metadata": {},
   "outputs": [
    {
     "name": "stdout",
     "output_type": "stream",
     "text": [
      "(1, 2, 3, 4, 5, 6)\n"
     ]
    }
   ],
   "source": [
    "sliced_tuple = my_tuple[:6]\n",
    "print(sliced_tuple) "
   ]
  },
  {
   "cell_type": "code",
   "execution_count": 23,
   "id": "88083314",
   "metadata": {},
   "outputs": [
    {
     "name": "stdout",
     "output_type": "stream",
     "text": [
      "(6, 7, 8, 9, 10)\n"
     ]
    }
   ],
   "source": [
    "sliced_tuple = my_tuple[5:]\n",
    "print(sliced_tuple)"
   ]
  },
  {
   "cell_type": "code",
   "execution_count": 24,
   "id": "6b1bb3f5",
   "metadata": {},
   "outputs": [
    {
     "name": "stdout",
     "output_type": "stream",
     "text": [
      "Maximum value in the tuple: 9\n"
     ]
    }
   ],
   "source": [
    "#21. Find the maximum value in a tuple.\n",
    "my_tuple = (3, 8, 1, 6, 9, 2, 5)\n",
    "max_value = max(my_tuple)\n",
    "print(\"Maximum value in the tuple:\", max_value) "
   ]
  },
  {
   "cell_type": "code",
   "execution_count": 25,
   "id": "a08330df",
   "metadata": {},
   "outputs": [
    {
     "name": "stdout",
     "output_type": "stream",
     "text": [
      "Minimum value in the tuple: 1\n"
     ]
    }
   ],
   "source": [
    "#22. Find the minimum value in a tuple.\n",
    "\n",
    "my_tuple = (3, 8, 1, 6, 9, 2, 5)\n",
    "min_value = min(my_tuple)\n",
    "print(\"Minimum value in the tuple:\", min_value) "
   ]
  },
  {
   "cell_type": "code",
   "execution_count": 26,
   "id": "9e500341",
   "metadata": {},
   "outputs": [
    {
     "name": "stdout",
     "output_type": "stream",
     "text": [
      "('h', 'e', 'l', 'l', 'o')\n"
     ]
    }
   ],
   "source": [
    "#23. Convert a string to a tuple of characters.\n",
    "string = \"hello\"\n",
    "tuple_of_characters = tuple(string)\n",
    "print(tuple_of_characters) "
   ]
  },
  {
   "cell_type": "code",
   "execution_count": 27,
   "id": "d1123637",
   "metadata": {},
   "outputs": [
    {
     "name": "stdout",
     "output_type": "stream",
     "text": [
      "hello\n"
     ]
    }
   ],
   "source": [
    "#24. Convert a tuple of characters to a string.\n",
    "tuple_of_characters = ('h', 'e', 'l', 'l', 'o')\n",
    "string_from_tuple = ''.join(tuple_of_characters)\n",
    "print(string_from_tuple)"
   ]
  },
  {
   "cell_type": "code",
   "execution_count": 28,
   "id": "70a255f8",
   "metadata": {},
   "outputs": [
    {
     "name": "stdout",
     "output_type": "stream",
     "text": [
      "(1, 'hello', 3.14, True)\n"
     ]
    }
   ],
   "source": [
    "#25. Create a tuple from multiple data types.\n",
    "mixed_tuple = (1, \"hello\", 3.14, True)\n",
    "print(mixed_tuple)"
   ]
  },
  {
   "cell_type": "code",
   "execution_count": 29,
   "id": "08b392d9",
   "metadata": {},
   "outputs": [
    {
     "name": "stdout",
     "output_type": "stream",
     "text": [
      "The tuples are identical.\n"
     ]
    }
   ],
   "source": [
    "#26. Check if two tuples are identical.\n",
    "tuple1 = (1, 2, 3)\n",
    "tuple2 = (1, 2, 3)\n",
    "\n",
    "if tuple1 == tuple2:\n",
    "    print(\"The tuples are identical.\")\n",
    "else:\n",
    "    print(\"The tuples are not identical.\")"
   ]
  },
  {
   "cell_type": "code",
   "execution_count": 30,
   "id": "3f0c3b4e",
   "metadata": {},
   "outputs": [
    {
     "name": "stdout",
     "output_type": "stream",
     "text": [
      "(1, 1, 2, 3, 4, 5, 5, 6, 9)\n"
     ]
    }
   ],
   "source": [
    "#27. Sort the elements of a tuple.\n",
    "my_tuple = (3, 1, 4, 1, 5, 9, 2, 6, 5)\n",
    "sorted_tuple = tuple(sorted(my_tuple))\n",
    "\n",
    "print(sorted_tuple)"
   ]
  },
  {
   "cell_type": "code",
   "execution_count": 31,
   "id": "034f9524",
   "metadata": {},
   "outputs": [
    {
     "name": "stdout",
     "output_type": "stream",
     "text": [
      "('1', '2', '3', '4', '5')\n"
     ]
    }
   ],
   "source": [
    "#28. Convert a tuple of integers to a tuple of strings.\n",
    "tuple_of_integers = (1, 2, 3, 4, 5)\n",
    "\n",
    "# Convert tuple of integers to tuple of strings\n",
    "tuple_of_strings = tuple(str(x) for x in tuple_of_integers)\n",
    "\n",
    "print(tuple_of_strings) "
   ]
  },
  {
   "cell_type": "code",
   "execution_count": 32,
   "id": "591f45c4",
   "metadata": {},
   "outputs": [
    {
     "name": "stdout",
     "output_type": "stream",
     "text": [
      "(1, 2, 3, 4, 5)\n"
     ]
    }
   ],
   "source": [
    "#29. Convert a tuple of strings to a tuple of integers.\n",
    "tuple_of_strings = ('1', '2', '3', '4', '5')\n",
    "\n",
    "# Convert tuple of strings to tuple of integers\n",
    "tuple_of_integers = tuple(int(x) for x in tuple_of_strings)\n",
    "print(tuple_of_integers) "
   ]
  },
  {
   "cell_type": "code",
   "execution_count": 33,
   "id": "2567cf93",
   "metadata": {},
   "outputs": [
    {
     "name": "stdout",
     "output_type": "stream",
     "text": [
      "(1, 2, 3, 4, 5, 6)\n"
     ]
    }
   ],
   "source": [
    "#30. Merge two tuples.\n",
    "tuple1 = (1, 2, 3)\n",
    "tuple2 = (4, 5, 6)\n",
    "merged_tuple = tuple1 + tuple2\n",
    "\n",
    "print(merged_tuple)"
   ]
  },
  {
   "cell_type": "code",
   "execution_count": 35,
   "id": "37b0bee1",
   "metadata": {},
   "outputs": [
    {
     "name": "stdout",
     "output_type": "stream",
     "text": [
      "(1, 2, 3, 4, 5, 6, 7)\n"
     ]
    }
   ],
   "source": [
    "#31. Flatten a nested tuple.\n",
    "nested_tuple = ((1, 2), (3, 4, 5), (6, 7))\n",
    "flattened_tuple = tuple(i for sublist in nested_tuple for i in sublist)\n",
    "print(flattened_tuple)"
   ]
  },
  {
   "cell_type": "code",
   "execution_count": 34,
   "id": "e13c713d",
   "metadata": {},
   "outputs": [
    {
     "name": "stdout",
     "output_type": "stream",
     "text": [
      "(1, 2, 3, 4, 5, 6, 7)\n"
     ]
    }
   ],
   "source": [
    "from itertools import chain\n",
    "\n",
    "nested_tuple = ((1, 2), (3, 4, 5), (6, 7))\n",
    "flattened_tuple = tuple(chain.from_iterable(nested_tuple))\n",
    "print(flattened_tuple)"
   ]
  },
  {
   "cell_type": "code",
   "execution_count": 36,
   "id": "73df7dd1",
   "metadata": {},
   "outputs": [
    {
     "name": "stdout",
     "output_type": "stream",
     "text": [
      "(2, 3, 5, 7, 11)\n"
     ]
    }
   ],
   "source": [
    "#32. Create a tuple of the first 5 prime numbers.\n",
    "def is_prime(num):\n",
    "    if num <= 1:\n",
    "        return False\n",
    "    if num == 2:\n",
    "        return True  # 2 is prime\n",
    "    if num % 2 == 0:\n",
    "        return False  # other even numbers are not prime\n",
    "    for i in range(3, int(num**0.5) + 1, 2):\n",
    "        if num % i == 0:\n",
    "            return False\n",
    "    return True\n",
    "\n",
    "# Create a tuple of the first 5 prime numbers\n",
    "first_five_primes = tuple(num for num in range(2, 20) if is_prime(num))[:5]\n",
    "print(first_five_primes)"
   ]
  },
  {
   "cell_type": "code",
   "execution_count": 38,
   "id": "c39b542b",
   "metadata": {},
   "outputs": [
    {
     "name": "stdout",
     "output_type": "stream",
     "text": [
      "True\n",
      "False\n"
     ]
    }
   ],
   "source": [
    "#33. Check if a tuple is a palindrome.\n",
    "def is_palindrome_tuple(input_tuple):\n",
    "    return input_tuple == input_tuple[::-1]\n",
    "tuple1 = (1, 2, 3, 2, 1)\n",
    "tuple2 = (1, 2, 3, 4, 5)\n",
    "print(is_palindrome_tuple(tuple1)) \n",
    "print(is_palindrome_tuple(tuple2)) "
   ]
  },
  {
   "cell_type": "code",
   "execution_count": 39,
   "id": "9d8ade48",
   "metadata": {},
   "outputs": [
    {
     "name": "stdout",
     "output_type": "stream",
     "text": [
      "(1, 4, 9, 16, 25)\n"
     ]
    }
   ],
   "source": [
    "#34. Create a tuple of squares of numbers from 1 to 5.\n",
    "squares_tuple = tuple(x**2 for x in range(1, 6))\n",
    "print(squares_tuple) "
   ]
  },
  {
   "cell_type": "code",
   "execution_count": 40,
   "id": "17b6e2a0",
   "metadata": {},
   "outputs": [
    {
     "name": "stdout",
     "output_type": "stream",
     "text": [
      "(1, 3, 5, 7, 9)\n"
     ]
    }
   ],
   "source": [
    "#35. Filter out all even numbers from a tuple.\n",
    "original_tuple = (1, 2, 3, 4, 5, 6, 7, 8, 9, 10)\n",
    "filtered_tuple = tuple(x for x in original_tuple if x % 2 != 0)\n",
    "\n",
    "print(filtered_tuple)"
   ]
  },
  {
   "cell_type": "code",
   "execution_count": 41,
   "id": "15f0ae45",
   "metadata": {},
   "outputs": [
    {
     "name": "stdout",
     "output_type": "stream",
     "text": [
      "(2, 4, 6, 8, 10)\n"
     ]
    }
   ],
   "source": [
    "#36. Multiply all elements in a tuple by 2.\n",
    "original_tuple = (1, 2, 3, 4, 5)\n",
    "\n",
    "multiplied_tuple = tuple(x * 2 for x in original_tuple)\n",
    "print(multiplied_tuple)"
   ]
  },
  {
   "cell_type": "code",
   "execution_count": 42,
   "id": "a100f3c7",
   "metadata": {},
   "outputs": [
    {
     "name": "stdout",
     "output_type": "stream",
     "text": [
      "(23, 18, 19, 68, 75)\n"
     ]
    }
   ],
   "source": [
    "#37. Create a tuple of random numbers.\n",
    "import random\n",
    "random_tuple = tuple(random.randint(1, 100) for _ in range(5))\n",
    "print(random_tuple)"
   ]
  },
  {
   "cell_type": "code",
   "execution_count": 43,
   "id": "d7bac46b",
   "metadata": {},
   "outputs": [
    {
     "name": "stdout",
     "output_type": "stream",
     "text": [
      "True\n",
      "False\n",
      "False\n"
     ]
    }
   ],
   "source": [
    "#38. Check if a tuple is sorted.\n",
    "def is_sorted_tuple(input_tuple):\n",
    "    return input_tuple == tuple(sorted(input_tuple))\n",
    "\n",
    "tuple1 = (1, 2, 3, 4, 5)\n",
    "tuple2 = (5, 4, 3, 2, 1)\n",
    "tuple3 = (1, 3, 2, 4, 5)\n",
    "\n",
    "print(is_sorted_tuple(tuple1))  \n",
    "print(is_sorted_tuple(tuple2))  \n",
    "print(is_sorted_tuple(tuple3))"
   ]
  },
  {
   "cell_type": "code",
   "execution_count": 44,
   "id": "48a2cad5",
   "metadata": {},
   "outputs": [
    {
     "name": "stdout",
     "output_type": "stream",
     "text": [
      "(3, 4, 5, 1, 2)\n"
     ]
    }
   ],
   "source": [
    "#39. Rotate a tuple to the left by `n` positions.\n",
    "def rotate_left_tuple(input_tuple, n):\n",
    "    n = n % len(input_tuple)  # Ensure n is within the range of tuple length\n",
    "    return input_tuple[n:] + input_tuple[:n]\n",
    "\n",
    "original_tuple = (1, 2, 3, 4, 5)\n",
    "n = 2\n",
    "\n",
    "rotated_tuple = rotate_left_tuple(original_tuple, n)\n",
    "print(rotated_tuple)"
   ]
  },
  {
   "cell_type": "code",
   "execution_count": 45,
   "id": "ac5291ab",
   "metadata": {},
   "outputs": [
    {
     "name": "stdout",
     "output_type": "stream",
     "text": [
      "(4, 5, 1, 2, 3)\n"
     ]
    }
   ],
   "source": [
    "#40. Rotate a tuple to the right by `n` positions.\n",
    "def rotate_right_tuple(input_tuple, n):\n",
    "    n = n % len(input_tuple)  # Ensure n is within the range of tuple length\n",
    "    return input_tuple[-n:] + input_tuple[:-n]\n",
    "original_tuple = (1, 2, 3, 4, 5)\n",
    "n = 2\n",
    "rotated_tuple = rotate_right_tuple(original_tuple, n)\n",
    "print(rotated_tuple)"
   ]
  },
  {
   "cell_type": "code",
   "execution_count": 47,
   "id": "74b2c168",
   "metadata": {},
   "outputs": [
    {
     "name": "stdout",
     "output_type": "stream",
     "text": [
      "(0, 1, 1, 2, 3)\n"
     ]
    }
   ],
   "source": [
    "#41. Create a tuple of the first 5 Fibonacci numbers.\n",
    "def generate_fibonacci(n):\n",
    "    fibo_num = [0, 1]  \n",
    "    for i in range(2, n):\n",
    "        next_fibonacci =  fibo_num[-1] +  fibo_num[-2]\n",
    "        fibo_num.append(next_fibonacci)\n",
    "    return tuple( fibo_num[:n])\n",
    "\n",
    "first_five_fibonacci = generate_fibonacci(5)\n",
    "\n",
    "print(first_five_fibonacci) "
   ]
  },
  {
   "cell_type": "code",
   "execution_count": 48,
   "id": "8304c13a",
   "metadata": {},
   "outputs": [
    {
     "name": "stdout",
     "output_type": "stream",
     "text": [
      "Enter elements separated by spaces to create a tuple: 1 2 3 4 5 6 7\n",
      "Tuple created: ('1', '2', '3', '4', '5', '6', '7')\n"
     ]
    }
   ],
   "source": [
    "#42. Create a tuple from user input.\n",
    "user_input = input(\"Enter elements separated by spaces to create a tuple: \")\n",
    "\n",
    "try:\n",
    "    tuple_from_input = tuple(user_input.split())\n",
    "    print(\"Tuple created:\", tuple_from_input)\n",
    "except ValueError:\n",
    "    print(\"Error: Please enter valid elements separated by spaces.\")"
   ]
  },
  {
   "cell_type": "code",
   "execution_count": 51,
   "id": "34f4e11f",
   "metadata": {},
   "outputs": [
    {
     "name": "stdout",
     "output_type": "stream",
     "text": [
      "Original Tuple: (1, 2, 3, 4, 5)\n",
      "Tuple after swapping elements at index 1 and 3: (1, 4, 3, 2, 5)\n"
     ]
    }
   ],
   "source": [
    "#43. Swap two elements in a tuple.\n",
    "\n",
    "original_tuple = (1, 2, 3, 4, 5)\n",
    "i1 = 1\n",
    "i2 = 3\n",
    "swapped_tuple = original_tuple[:i1] + (original_tuple[i2],) + original_tuple[i1+1:i2] + (original_tuple[i1],) + original_tuple[i2+1:]\n",
    "\n",
    "print(\"Original Tuple:\", original_tuple)\n",
    "print(\"Tuple after swapping elements at index {} and {}: {}\".format(i1, i2, swapped_tuple))"
   ]
  },
  {
   "cell_type": "code",
   "execution_count": 52,
   "id": "f3f2e477",
   "metadata": {},
   "outputs": [
    {
     "name": "stdout",
     "output_type": "stream",
     "text": [
      "Original Tuple: (1, 2, 3, 4, 5)\n",
      "Reversed Tuple: (5, 4, 3, 2, 1)\n"
     ]
    }
   ],
   "source": [
    "#44. Reverse the elements of a tuple.\n",
    "original_tuple = (1, 2, 3, 4, 5)\n",
    "\n",
    "# Reversed tuple using slicing\n",
    "reversed_tuple = original_tuple[::-1]\n",
    "\n",
    "print(\"Original Tuple:\", original_tuple)\n",
    "print(\"Reversed Tuple:\", reversed_tuple)"
   ]
  },
  {
   "cell_type": "code",
   "execution_count": 53,
   "id": "5961169a",
   "metadata": {},
   "outputs": [
    {
     "name": "stdout",
     "output_type": "stream",
     "text": [
      "Tuple of the first 5 powers of 2: (1, 2, 4, 8, 16)\n"
     ]
    }
   ],
   "source": [
    "#45. Create a tuple of the first `n` powers of 2.\n",
    "def powers_2(n):\n",
    "    powers_2 = tuple(2 ** i for i in range(n))\n",
    "    return powers_2\n",
    "\n",
    "n = 5  # Number of powers of 2\n",
    "powers_tuple = powers_2(n)\n",
    "\n",
    "print(\"Tuple of the first {} powers of 2:\".format(n), powers_tuple)\n"
   ]
  },
  {
   "cell_type": "code",
   "execution_count": 54,
   "id": "287e52b5",
   "metadata": {},
   "outputs": [
    {
     "name": "stdout",
     "output_type": "stream",
     "text": [
      "Tuple of strings: ('apple', 'banana', 'cherry', 'date', 'elderberry')\n",
      "Longest string: elderberry\n"
     ]
    }
   ],
   "source": [
    "#46. Find the longest string in a tuple of strings.\n",
    "def longest_string_in_tuple(tuple_of_strings):\n",
    "    if not tuple_of_strings:  # Handle empty tuple case\n",
    "        return None\n",
    "    \n",
    "    longest = tuple_of_strings[0]\n",
    "    for string in tuple_of_strings:\n",
    "        if len(string) > len(longest):\n",
    "            longest = string\n",
    "    \n",
    "    return longest\n",
    "\n",
    "tuple_of_strings = (\"apple\", \"banana\", \"cherry\", \"date\", \"elderberry\")\n",
    "longest = longest_string_in_tuple(tuple_of_strings)\n",
    "\n",
    "print(\"Tuple of strings:\", tuple_of_strings)\n",
    "print(\"Longest string:\", longest)"
   ]
  },
  {
   "cell_type": "code",
   "execution_count": 56,
   "id": "32175efa",
   "metadata": {},
   "outputs": [
    {
     "name": "stdout",
     "output_type": "stream",
     "text": [
      "Tuple of strings: ('apple', 'banana', 'cherry', 'date', 'elderberry')\n",
      "shortest string: apple\n"
     ]
    }
   ],
   "source": [
    "#47. Find the shortest string in a tuple of strings.\n",
    "def shortest_string_in_tuple(tuple_of_strings):\n",
    "    if not tuple_of_strings:  # Handle empty tuple case\n",
    "        return None\n",
    "    \n",
    "    shortest = tuple_of_strings[0]\n",
    "    for string in tuple_of_strings:\n",
    "        if len(string) < len(shortest):\n",
    "            longest = string\n",
    "    \n",
    "    return shortest\n",
    "\n",
    "tuple_of_strings = (\"apple\", \"banana\", \"cherry\", \"date\", \"elderberry\")\n",
    "longest = shortest_string_in_tuple(tuple_of_strings)\n",
    "\n",
    "print(\"Tuple of strings:\", tuple_of_strings)\n",
    "print(\"shortest string:\", longest)"
   ]
  },
  {
   "cell_type": "code",
   "execution_count": 57,
   "id": "6a5c5b18",
   "metadata": {},
   "outputs": [
    {
     "name": "stdout",
     "output_type": "stream",
     "text": [
      "Tuple of the first 5 triangular numbers: (1, 3, 6, 10, 15)\n"
     ]
    }
   ],
   "source": [
    "#48. Create a tuple of the first `n` triangular numbers.\n",
    "def first_n_triangular_numbers(n):\n",
    "    triangular_numbers = tuple((i * (i + 1)) // 2 for i in range(1, n + 1))\n",
    "    return triangular_numbers\n",
    "\n",
    "n = 5  # Number of triangular numbers to generate\n",
    "triangular_tuple = first_n_triangular_numbers(n)\n",
    "\n",
    "print(\"Tuple of the first {} triangular numbers:\".format(n), triangular_tuple)"
   ]
  },
  {
   "cell_type": "code",
   "execution_count": 3,
   "id": "eb016c0b",
   "metadata": {},
   "outputs": [
    {
     "name": "stdout",
     "output_type": "stream",
     "text": [
      "True\n",
      "False\n"
     ]
    }
   ],
   "source": [
    "#49. Check if a tuple contains another tuple as a subsequence.\n",
    "def contains_subsequence(large_tuple, small_tuple):\n",
    "    len_large = len(large_tuple)\n",
    "    len_small = len(small_tuple)\n",
    "    if len_small == 0:  #If the small tuple is empty, return True\n",
    "        return True\n",
    "\n",
    "    if len_large < len_small:  # If the large tuple is shorter than the small tuple, return False\n",
    "        return False\n",
    "    \n",
    "    for i in range(len_large - len_small + 1):\n",
    "        if large_tuple[i:i + len_small] == small_tuple:\n",
    "            return True\n",
    "    return False\n",
    "\n",
    "large_tuple = (1, 2, 3, 4, 5)\n",
    "small_tuple = (3, 4)\n",
    "print(contains_subsequence(large_tuple, small_tuple))  # Output: True\n",
    "\n",
    "small_tuple = (4, 5, 6)\n",
    "print(contains_subsequence(large_tuple,small_tuple))"
   ]
  },
  {
   "cell_type": "code",
   "execution_count": 4,
   "id": "5ff7e75e",
   "metadata": {},
   "outputs": [
    {
     "name": "stdout",
     "output_type": "stream",
     "text": [
      "Tuple of alternating 1s and 0s of length 10: (1, 0, 1, 0, 1, 0, 1, 0, 1, 0)\n"
     ]
    }
   ],
   "source": [
    "#50. Create a tuple of alternating 1s and 0s of length `n`.\n",
    "def alternating_ones_zeros(n):\n",
    "    return tuple(1 if i % 2 == 0 else 0 for i in range(n))\n",
    "\n",
    "n = 10 \n",
    "alternating_tuple = alternating_ones_zeros(n)\n",
    "print(\"Tuple of alternating 1s and 0s of length {}: {}\".format(n, alternating_tuple))\n"
   ]
  },
  {
   "cell_type": "code",
   "execution_count": null,
   "id": "fa74592e",
   "metadata": {},
   "outputs": [],
   "source": []
  }
 ],
 "metadata": {
  "kernelspec": {
   "display_name": "Python 3 (ipykernel)",
   "language": "python",
   "name": "python3"
  },
  "language_info": {
   "codemirror_mode": {
    "name": "ipython",
    "version": 3
   },
   "file_extension": ".py",
   "mimetype": "text/x-python",
   "name": "python",
   "nbconvert_exporter": "python",
   "pygments_lexer": "ipython3",
   "version": "3.10.9"
  }
 },
 "nbformat": 4,
 "nbformat_minor": 5
}
